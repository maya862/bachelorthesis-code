{
  "nbformat": 4,
  "nbformat_minor": 0,
  "metadata": {
    "colab": {
      "provenance": []
    },
    "kernelspec": {
      "name": "python3",
      "display_name": "Python 3"
    },
    "language_info": {
      "name": "python"
    },
    "widgets": {
      "application/vnd.jupyter.widget-state+json": {
        "77602912cf744126b524fdb3a90ab054": {
          "model_module": "@jupyter-widgets/controls",
          "model_name": "HBoxModel",
          "model_module_version": "1.5.0",
          "state": {
            "_dom_classes": [],
            "_model_module": "@jupyter-widgets/controls",
            "_model_module_version": "1.5.0",
            "_model_name": "HBoxModel",
            "_view_count": null,
            "_view_module": "@jupyter-widgets/controls",
            "_view_module_version": "1.5.0",
            "_view_name": "HBoxView",
            "box_style": "",
            "children": [
              "IPY_MODEL_611c6c5c9f3a4ce7934f6849ceeff774",
              "IPY_MODEL_6a0c5f12db1e44eb8f9adeff33ac0a91",
              "IPY_MODEL_ea4e9fdab617464e9f498e33630e2152"
            ],
            "layout": "IPY_MODEL_c6d0d58ad75e4e8cb47e3f1d69bc1340"
          }
        },
        "611c6c5c9f3a4ce7934f6849ceeff774": {
          "model_module": "@jupyter-widgets/controls",
          "model_name": "HTMLModel",
          "model_module_version": "1.5.0",
          "state": {
            "_dom_classes": [],
            "_model_module": "@jupyter-widgets/controls",
            "_model_module_version": "1.5.0",
            "_model_name": "HTMLModel",
            "_view_count": null,
            "_view_module": "@jupyter-widgets/controls",
            "_view_module_version": "1.5.0",
            "_view_name": "HTMLView",
            "description": "",
            "description_tooltip": null,
            "layout": "IPY_MODEL_f91e5a62d34b40769363d381c75c9d3e",
            "placeholder": "​",
            "style": "IPY_MODEL_89311373e7c94bd0b43112cc82d4e47a",
            "value": "pytorch_model.bin: 100%"
          }
        },
        "6a0c5f12db1e44eb8f9adeff33ac0a91": {
          "model_module": "@jupyter-widgets/controls",
          "model_name": "FloatProgressModel",
          "model_module_version": "1.5.0",
          "state": {
            "_dom_classes": [],
            "_model_module": "@jupyter-widgets/controls",
            "_model_module_version": "1.5.0",
            "_model_name": "FloatProgressModel",
            "_view_count": null,
            "_view_module": "@jupyter-widgets/controls",
            "_view_module_version": "1.5.0",
            "_view_name": "ProgressView",
            "bar_style": "success",
            "description": "",
            "description_tooltip": null,
            "layout": "IPY_MODEL_318396c05a544bdf9c98c509315f902b",
            "max": 435778770,
            "min": 0,
            "orientation": "horizontal",
            "style": "IPY_MODEL_8012966334864cf39ce6365f7a5557a3",
            "value": 435778770
          }
        },
        "ea4e9fdab617464e9f498e33630e2152": {
          "model_module": "@jupyter-widgets/controls",
          "model_name": "HTMLModel",
          "model_module_version": "1.5.0",
          "state": {
            "_dom_classes": [],
            "_model_module": "@jupyter-widgets/controls",
            "_model_module_version": "1.5.0",
            "_model_name": "HTMLModel",
            "_view_count": null,
            "_view_module": "@jupyter-widgets/controls",
            "_view_module_version": "1.5.0",
            "_view_name": "HTMLView",
            "description": "",
            "description_tooltip": null,
            "layout": "IPY_MODEL_b5629348f22a4a4a9cab19b563b91ea3",
            "placeholder": "​",
            "style": "IPY_MODEL_366906f467b34d29ae168915e6e1934c",
            "value": " 436M/436M [00:05&lt;00:00, 61.4MB/s]"
          }
        },
        "c6d0d58ad75e4e8cb47e3f1d69bc1340": {
          "model_module": "@jupyter-widgets/base",
          "model_name": "LayoutModel",
          "model_module_version": "1.2.0",
          "state": {
            "_model_module": "@jupyter-widgets/base",
            "_model_module_version": "1.2.0",
            "_model_name": "LayoutModel",
            "_view_count": null,
            "_view_module": "@jupyter-widgets/base",
            "_view_module_version": "1.2.0",
            "_view_name": "LayoutView",
            "align_content": null,
            "align_items": null,
            "align_self": null,
            "border": null,
            "bottom": null,
            "display": null,
            "flex": null,
            "flex_flow": null,
            "grid_area": null,
            "grid_auto_columns": null,
            "grid_auto_flow": null,
            "grid_auto_rows": null,
            "grid_column": null,
            "grid_gap": null,
            "grid_row": null,
            "grid_template_areas": null,
            "grid_template_columns": null,
            "grid_template_rows": null,
            "height": null,
            "justify_content": null,
            "justify_items": null,
            "left": null,
            "margin": null,
            "max_height": null,
            "max_width": null,
            "min_height": null,
            "min_width": null,
            "object_fit": null,
            "object_position": null,
            "order": null,
            "overflow": null,
            "overflow_x": null,
            "overflow_y": null,
            "padding": null,
            "right": null,
            "top": null,
            "visibility": null,
            "width": null
          }
        },
        "f91e5a62d34b40769363d381c75c9d3e": {
          "model_module": "@jupyter-widgets/base",
          "model_name": "LayoutModel",
          "model_module_version": "1.2.0",
          "state": {
            "_model_module": "@jupyter-widgets/base",
            "_model_module_version": "1.2.0",
            "_model_name": "LayoutModel",
            "_view_count": null,
            "_view_module": "@jupyter-widgets/base",
            "_view_module_version": "1.2.0",
            "_view_name": "LayoutView",
            "align_content": null,
            "align_items": null,
            "align_self": null,
            "border": null,
            "bottom": null,
            "display": null,
            "flex": null,
            "flex_flow": null,
            "grid_area": null,
            "grid_auto_columns": null,
            "grid_auto_flow": null,
            "grid_auto_rows": null,
            "grid_column": null,
            "grid_gap": null,
            "grid_row": null,
            "grid_template_areas": null,
            "grid_template_columns": null,
            "grid_template_rows": null,
            "height": null,
            "justify_content": null,
            "justify_items": null,
            "left": null,
            "margin": null,
            "max_height": null,
            "max_width": null,
            "min_height": null,
            "min_width": null,
            "object_fit": null,
            "object_position": null,
            "order": null,
            "overflow": null,
            "overflow_x": null,
            "overflow_y": null,
            "padding": null,
            "right": null,
            "top": null,
            "visibility": null,
            "width": null
          }
        },
        "89311373e7c94bd0b43112cc82d4e47a": {
          "model_module": "@jupyter-widgets/controls",
          "model_name": "DescriptionStyleModel",
          "model_module_version": "1.5.0",
          "state": {
            "_model_module": "@jupyter-widgets/controls",
            "_model_module_version": "1.5.0",
            "_model_name": "DescriptionStyleModel",
            "_view_count": null,
            "_view_module": "@jupyter-widgets/base",
            "_view_module_version": "1.2.0",
            "_view_name": "StyleView",
            "description_width": ""
          }
        },
        "318396c05a544bdf9c98c509315f902b": {
          "model_module": "@jupyter-widgets/base",
          "model_name": "LayoutModel",
          "model_module_version": "1.2.0",
          "state": {
            "_model_module": "@jupyter-widgets/base",
            "_model_module_version": "1.2.0",
            "_model_name": "LayoutModel",
            "_view_count": null,
            "_view_module": "@jupyter-widgets/base",
            "_view_module_version": "1.2.0",
            "_view_name": "LayoutView",
            "align_content": null,
            "align_items": null,
            "align_self": null,
            "border": null,
            "bottom": null,
            "display": null,
            "flex": null,
            "flex_flow": null,
            "grid_area": null,
            "grid_auto_columns": null,
            "grid_auto_flow": null,
            "grid_auto_rows": null,
            "grid_column": null,
            "grid_gap": null,
            "grid_row": null,
            "grid_template_areas": null,
            "grid_template_columns": null,
            "grid_template_rows": null,
            "height": null,
            "justify_content": null,
            "justify_items": null,
            "left": null,
            "margin": null,
            "max_height": null,
            "max_width": null,
            "min_height": null,
            "min_width": null,
            "object_fit": null,
            "object_position": null,
            "order": null,
            "overflow": null,
            "overflow_x": null,
            "overflow_y": null,
            "padding": null,
            "right": null,
            "top": null,
            "visibility": null,
            "width": null
          }
        },
        "8012966334864cf39ce6365f7a5557a3": {
          "model_module": "@jupyter-widgets/controls",
          "model_name": "ProgressStyleModel",
          "model_module_version": "1.5.0",
          "state": {
            "_model_module": "@jupyter-widgets/controls",
            "_model_module_version": "1.5.0",
            "_model_name": "ProgressStyleModel",
            "_view_count": null,
            "_view_module": "@jupyter-widgets/base",
            "_view_module_version": "1.2.0",
            "_view_name": "StyleView",
            "bar_color": null,
            "description_width": ""
          }
        },
        "b5629348f22a4a4a9cab19b563b91ea3": {
          "model_module": "@jupyter-widgets/base",
          "model_name": "LayoutModel",
          "model_module_version": "1.2.0",
          "state": {
            "_model_module": "@jupyter-widgets/base",
            "_model_module_version": "1.2.0",
            "_model_name": "LayoutModel",
            "_view_count": null,
            "_view_module": "@jupyter-widgets/base",
            "_view_module_version": "1.2.0",
            "_view_name": "LayoutView",
            "align_content": null,
            "align_items": null,
            "align_self": null,
            "border": null,
            "bottom": null,
            "display": null,
            "flex": null,
            "flex_flow": null,
            "grid_area": null,
            "grid_auto_columns": null,
            "grid_auto_flow": null,
            "grid_auto_rows": null,
            "grid_column": null,
            "grid_gap": null,
            "grid_row": null,
            "grid_template_areas": null,
            "grid_template_columns": null,
            "grid_template_rows": null,
            "height": null,
            "justify_content": null,
            "justify_items": null,
            "left": null,
            "margin": null,
            "max_height": null,
            "max_width": null,
            "min_height": null,
            "min_width": null,
            "object_fit": null,
            "object_position": null,
            "order": null,
            "overflow": null,
            "overflow_x": null,
            "overflow_y": null,
            "padding": null,
            "right": null,
            "top": null,
            "visibility": null,
            "width": null
          }
        },
        "366906f467b34d29ae168915e6e1934c": {
          "model_module": "@jupyter-widgets/controls",
          "model_name": "DescriptionStyleModel",
          "model_module_version": "1.5.0",
          "state": {
            "_model_module": "@jupyter-widgets/controls",
            "_model_module_version": "1.5.0",
            "_model_name": "DescriptionStyleModel",
            "_view_count": null,
            "_view_module": "@jupyter-widgets/base",
            "_view_module_version": "1.2.0",
            "_view_name": "StyleView",
            "description_width": ""
          }
        },
        "7913e8bd220a46c2b1af5c3e1bee5d9f": {
          "model_module": "@jupyter-widgets/controls",
          "model_name": "HBoxModel",
          "model_module_version": "1.5.0",
          "state": {
            "_dom_classes": [],
            "_model_module": "@jupyter-widgets/controls",
            "_model_module_version": "1.5.0",
            "_model_name": "HBoxModel",
            "_view_count": null,
            "_view_module": "@jupyter-widgets/controls",
            "_view_module_version": "1.5.0",
            "_view_name": "HBoxView",
            "box_style": "",
            "children": [
              "IPY_MODEL_89e3aabc061d4b6cac8460f6ccef9ba7",
              "IPY_MODEL_610e178fad534886a8aa956236818e9f",
              "IPY_MODEL_59faddbaaaf142c9ad6e7ff966a954ef"
            ],
            "layout": "IPY_MODEL_fe6047514ead447ea94a415190a9c2eb"
          }
        },
        "89e3aabc061d4b6cac8460f6ccef9ba7": {
          "model_module": "@jupyter-widgets/controls",
          "model_name": "HTMLModel",
          "model_module_version": "1.5.0",
          "state": {
            "_dom_classes": [],
            "_model_module": "@jupyter-widgets/controls",
            "_model_module_version": "1.5.0",
            "_model_name": "HTMLModel",
            "_view_count": null,
            "_view_module": "@jupyter-widgets/controls",
            "_view_module_version": "1.5.0",
            "_view_name": "HTMLView",
            "description": "",
            "description_tooltip": null,
            "layout": "IPY_MODEL_186d73eef3144b478bf9c51a90d08f70",
            "placeholder": "​",
            "style": "IPY_MODEL_68f132416d314c689187bfa340ff0363",
            "value": "model.safetensors: 100%"
          }
        },
        "610e178fad534886a8aa956236818e9f": {
          "model_module": "@jupyter-widgets/controls",
          "model_name": "FloatProgressModel",
          "model_module_version": "1.5.0",
          "state": {
            "_dom_classes": [],
            "_model_module": "@jupyter-widgets/controls",
            "_model_module_version": "1.5.0",
            "_model_name": "FloatProgressModel",
            "_view_count": null,
            "_view_module": "@jupyter-widgets/controls",
            "_view_module_version": "1.5.0",
            "_view_name": "ProgressView",
            "bar_style": "success",
            "description": "",
            "description_tooltip": null,
            "layout": "IPY_MODEL_e27fd73728044006b6eb24dea573e2d7",
            "max": 435755888,
            "min": 0,
            "orientation": "horizontal",
            "style": "IPY_MODEL_cd06e1dca6074fcfb92c47427a70094b",
            "value": 435755888
          }
        },
        "59faddbaaaf142c9ad6e7ff966a954ef": {
          "model_module": "@jupyter-widgets/controls",
          "model_name": "HTMLModel",
          "model_module_version": "1.5.0",
          "state": {
            "_dom_classes": [],
            "_model_module": "@jupyter-widgets/controls",
            "_model_module_version": "1.5.0",
            "_model_name": "HTMLModel",
            "_view_count": null,
            "_view_module": "@jupyter-widgets/controls",
            "_view_module_version": "1.5.0",
            "_view_name": "HTMLView",
            "description": "",
            "description_tooltip": null,
            "layout": "IPY_MODEL_5e2ceae9bc4e4d19b0a9d1ab26f7e5fc",
            "placeholder": "​",
            "style": "IPY_MODEL_c5e85234b6dc4e9fa0d1671ada41db0e",
            "value": " 436M/436M [00:02&lt;00:00, 193MB/s]"
          }
        },
        "fe6047514ead447ea94a415190a9c2eb": {
          "model_module": "@jupyter-widgets/base",
          "model_name": "LayoutModel",
          "model_module_version": "1.2.0",
          "state": {
            "_model_module": "@jupyter-widgets/base",
            "_model_module_version": "1.2.0",
            "_model_name": "LayoutModel",
            "_view_count": null,
            "_view_module": "@jupyter-widgets/base",
            "_view_module_version": "1.2.0",
            "_view_name": "LayoutView",
            "align_content": null,
            "align_items": null,
            "align_self": null,
            "border": null,
            "bottom": null,
            "display": null,
            "flex": null,
            "flex_flow": null,
            "grid_area": null,
            "grid_auto_columns": null,
            "grid_auto_flow": null,
            "grid_auto_rows": null,
            "grid_column": null,
            "grid_gap": null,
            "grid_row": null,
            "grid_template_areas": null,
            "grid_template_columns": null,
            "grid_template_rows": null,
            "height": null,
            "justify_content": null,
            "justify_items": null,
            "left": null,
            "margin": null,
            "max_height": null,
            "max_width": null,
            "min_height": null,
            "min_width": null,
            "object_fit": null,
            "object_position": null,
            "order": null,
            "overflow": null,
            "overflow_x": null,
            "overflow_y": null,
            "padding": null,
            "right": null,
            "top": null,
            "visibility": null,
            "width": null
          }
        },
        "186d73eef3144b478bf9c51a90d08f70": {
          "model_module": "@jupyter-widgets/base",
          "model_name": "LayoutModel",
          "model_module_version": "1.2.0",
          "state": {
            "_model_module": "@jupyter-widgets/base",
            "_model_module_version": "1.2.0",
            "_model_name": "LayoutModel",
            "_view_count": null,
            "_view_module": "@jupyter-widgets/base",
            "_view_module_version": "1.2.0",
            "_view_name": "LayoutView",
            "align_content": null,
            "align_items": null,
            "align_self": null,
            "border": null,
            "bottom": null,
            "display": null,
            "flex": null,
            "flex_flow": null,
            "grid_area": null,
            "grid_auto_columns": null,
            "grid_auto_flow": null,
            "grid_auto_rows": null,
            "grid_column": null,
            "grid_gap": null,
            "grid_row": null,
            "grid_template_areas": null,
            "grid_template_columns": null,
            "grid_template_rows": null,
            "height": null,
            "justify_content": null,
            "justify_items": null,
            "left": null,
            "margin": null,
            "max_height": null,
            "max_width": null,
            "min_height": null,
            "min_width": null,
            "object_fit": null,
            "object_position": null,
            "order": null,
            "overflow": null,
            "overflow_x": null,
            "overflow_y": null,
            "padding": null,
            "right": null,
            "top": null,
            "visibility": null,
            "width": null
          }
        },
        "68f132416d314c689187bfa340ff0363": {
          "model_module": "@jupyter-widgets/controls",
          "model_name": "DescriptionStyleModel",
          "model_module_version": "1.5.0",
          "state": {
            "_model_module": "@jupyter-widgets/controls",
            "_model_module_version": "1.5.0",
            "_model_name": "DescriptionStyleModel",
            "_view_count": null,
            "_view_module": "@jupyter-widgets/base",
            "_view_module_version": "1.2.0",
            "_view_name": "StyleView",
            "description_width": ""
          }
        },
        "e27fd73728044006b6eb24dea573e2d7": {
          "model_module": "@jupyter-widgets/base",
          "model_name": "LayoutModel",
          "model_module_version": "1.2.0",
          "state": {
            "_model_module": "@jupyter-widgets/base",
            "_model_module_version": "1.2.0",
            "_model_name": "LayoutModel",
            "_view_count": null,
            "_view_module": "@jupyter-widgets/base",
            "_view_module_version": "1.2.0",
            "_view_name": "LayoutView",
            "align_content": null,
            "align_items": null,
            "align_self": null,
            "border": null,
            "bottom": null,
            "display": null,
            "flex": null,
            "flex_flow": null,
            "grid_area": null,
            "grid_auto_columns": null,
            "grid_auto_flow": null,
            "grid_auto_rows": null,
            "grid_column": null,
            "grid_gap": null,
            "grid_row": null,
            "grid_template_areas": null,
            "grid_template_columns": null,
            "grid_template_rows": null,
            "height": null,
            "justify_content": null,
            "justify_items": null,
            "left": null,
            "margin": null,
            "max_height": null,
            "max_width": null,
            "min_height": null,
            "min_width": null,
            "object_fit": null,
            "object_position": null,
            "order": null,
            "overflow": null,
            "overflow_x": null,
            "overflow_y": null,
            "padding": null,
            "right": null,
            "top": null,
            "visibility": null,
            "width": null
          }
        },
        "cd06e1dca6074fcfb92c47427a70094b": {
          "model_module": "@jupyter-widgets/controls",
          "model_name": "ProgressStyleModel",
          "model_module_version": "1.5.0",
          "state": {
            "_model_module": "@jupyter-widgets/controls",
            "_model_module_version": "1.5.0",
            "_model_name": "ProgressStyleModel",
            "_view_count": null,
            "_view_module": "@jupyter-widgets/base",
            "_view_module_version": "1.2.0",
            "_view_name": "StyleView",
            "bar_color": null,
            "description_width": ""
          }
        },
        "5e2ceae9bc4e4d19b0a9d1ab26f7e5fc": {
          "model_module": "@jupyter-widgets/base",
          "model_name": "LayoutModel",
          "model_module_version": "1.2.0",
          "state": {
            "_model_module": "@jupyter-widgets/base",
            "_model_module_version": "1.2.0",
            "_model_name": "LayoutModel",
            "_view_count": null,
            "_view_module": "@jupyter-widgets/base",
            "_view_module_version": "1.2.0",
            "_view_name": "LayoutView",
            "align_content": null,
            "align_items": null,
            "align_self": null,
            "border": null,
            "bottom": null,
            "display": null,
            "flex": null,
            "flex_flow": null,
            "grid_area": null,
            "grid_auto_columns": null,
            "grid_auto_flow": null,
            "grid_auto_rows": null,
            "grid_column": null,
            "grid_gap": null,
            "grid_row": null,
            "grid_template_areas": null,
            "grid_template_columns": null,
            "grid_template_rows": null,
            "height": null,
            "justify_content": null,
            "justify_items": null,
            "left": null,
            "margin": null,
            "max_height": null,
            "max_width": null,
            "min_height": null,
            "min_width": null,
            "object_fit": null,
            "object_position": null,
            "order": null,
            "overflow": null,
            "overflow_x": null,
            "overflow_y": null,
            "padding": null,
            "right": null,
            "top": null,
            "visibility": null,
            "width": null
          }
        },
        "c5e85234b6dc4e9fa0d1671ada41db0e": {
          "model_module": "@jupyter-widgets/controls",
          "model_name": "DescriptionStyleModel",
          "model_module_version": "1.5.0",
          "state": {
            "_model_module": "@jupyter-widgets/controls",
            "_model_module_version": "1.5.0",
            "_model_name": "DescriptionStyleModel",
            "_view_count": null,
            "_view_module": "@jupyter-widgets/base",
            "_view_module_version": "1.2.0",
            "_view_name": "StyleView",
            "description_width": ""
          }
        }
      }
    }
  },
  "cells": [
    {
      "cell_type": "code",
      "source": [
        "# 📦 Imports\n",
        "import pandas as pd\n",
        "import torch\n",
        "import numpy as np\n",
        "import random\n",
        "from sklearn.preprocessing import LabelEncoder\n",
        "from sklearn.model_selection import train_test_split\n",
        "from sklearn.metrics import accuracy_score, precision_score, recall_score, f1_score, classification_report\n",
        "from torch.utils.data import Dataset, DataLoader\n",
        "from transformers import AutoTokenizer, AutoModelForSequenceClassification\n",
        "from tqdm import tqdm\n",
        "from collections import Counter\n",
        "\n",
        "# 🔧 Set seeds for reproducibility\n",
        "def set_seed(seed):\n",
        "    random.seed(seed)\n",
        "    np.random.seed(seed)\n",
        "    torch.manual_seed(seed)\n",
        "    if torch.cuda.is_available():\n",
        "        torch.cuda.manual_seed_all(seed)\n",
        "\n",
        "RANDOM_SEED = 42\n",
        "set_seed(RANDOM_SEED)\n",
        "\n",
        "# 📁 Load data\n",
        "df1 = pd.read_csv(\"/content/Train_data.csv\")[['text', 'label']]\n",
        "df2 = pd.read_csv(\"/content/medical_data.csv\").rename(columns={\"Patient_Problem\": \"text\", \"Disease\": \"label\"})[['text', 'label']]\n",
        "df_all = pd.concat([df1, df2]).reset_index(drop=True)\n",
        "\n",
        "# ❗ Entferne Klassen mit weniger als 2 Beispielen (für stratified split notwendig)\n",
        "counts = df_all['label'].value_counts()\n",
        "labels_to_remove = counts[counts < 2].index.tolist()\n",
        "df_all_filtered = df_all[~df_all['label'].isin(labels_to_remove)].reset_index(drop=True)\n",
        "\n",
        "print(f\"Original dataset size: {len(df_all)}\")\n",
        "print(f\"Filtered dataset size (removed classes with < 2 samples): {len(df_all_filtered)}\")\n",
        "print(f\"Removed labels: {labels_to_remove}\")\n",
        "\n",
        "# 🔠 Label encoding auf gefiltertem Datensatz\n",
        "le = LabelEncoder()\n",
        "df_all_filtered['label'] = le.fit_transform(df_all_filtered['label'])\n",
        "num_labels = len(le.classes_)\n",
        "\n",
        "# 🔤 Model und Tokenizer (ClinicalBERT)\n",
        "model_name = \"emilyalsentzer/Bio_ClinicalBERT\"\n",
        "tokenizer = AutoTokenizer.from_pretrained(model_name)\n",
        "\n",
        "# 📦 Dataset-Klasse\n",
        "class MedicalDataset(Dataset):\n",
        "    def __init__(self, texts, labels):\n",
        "        self.encodings = tokenizer(texts, truncation=True, padding=True, return_tensors=\"pt\")\n",
        "        self.labels = torch.tensor(labels)\n",
        "\n",
        "    def __getitem__(self, idx):\n",
        "        item = {key: val[idx] for key, val in self.encodings.items()}\n",
        "        item[\"labels\"] = self.labels[idx]\n",
        "        return item\n",
        "\n",
        "    def __len__(self):\n",
        "        return len(self.labels)\n",
        "\n",
        "# 🧪 Stratified Train/Test Split mit fixiertem Seed\n",
        "X_train, X_test, y_train, y_test = train_test_split(\n",
        "    df_all_filtered[\"text\"].tolist(),\n",
        "    df_all_filtered[\"label\"].tolist(),\n",
        "    test_size=0.2,\n",
        "    random_state=RANDOM_SEED,\n",
        "    stratify=df_all_filtered[\"label\"].tolist()\n",
        ")\n",
        "\n",
        "print(f\"Train size: {len(X_train)}, Test size: {len(X_test)}\")\n",
        "print(\"Train label distribution:\", Counter(y_train))\n",
        "print(\"Test label distribution:\", Counter(y_test))\n",
        "\n",
        "# 🏗️ DataLoader\n",
        "train_loader = DataLoader(MedicalDataset(X_train, y_train), batch_size=16, shuffle=True)\n",
        "test_loader = DataLoader(MedicalDataset(X_test, y_test), batch_size=16)\n",
        "\n",
        "# 🧠 Modell-Setup\n",
        "device = torch.device(\"cuda\" if torch.cuda.is_available() else \"cpu\")\n",
        "model = AutoModelForSequenceClassification.from_pretrained(model_name, num_labels=num_labels).to(device)\n",
        "optimizer = torch.optim.AdamW(model.parameters(), lr=2e-5)\n",
        "\n",
        "# 🛑 Early Stopping Parameter\n",
        "patience = 3\n",
        "best_val_loss = float(\"inf\")\n",
        "patience_counter = 0\n",
        "\n",
        "train_losses = []\n",
        "val_losses = []\n",
        "\n",
        "# 🔁 Trainingsschleife mit Early Stopping\n",
        "epoch = 0\n",
        "while True:\n",
        "    epoch += 1\n",
        "    print(f\"\\nEpoch {epoch}\")\n",
        "    model.train()\n",
        "    total_train_loss = 0\n",
        "\n",
        "    for batch in tqdm(train_loader):\n",
        "        batch = {k: v.to(device) for k, v in batch.items()}\n",
        "        outputs = model(**batch)\n",
        "        loss = outputs.loss\n",
        "        loss.backward()\n",
        "        optimizer.step()\n",
        "        optimizer.zero_grad()\n",
        "        total_train_loss += loss.item()\n",
        "\n",
        "    avg_train_loss = total_train_loss / len(train_loader)\n",
        "    train_losses.append(avg_train_loss)\n",
        "\n",
        "    model.eval()\n",
        "    total_val_loss = 0\n",
        "    with torch.no_grad():\n",
        "        for batch in test_loader:\n",
        "            batch = {k: v.to(device) for k, v in batch.items()}\n",
        "            outputs = model(**batch)\n",
        "            total_val_loss += outputs.loss.item()\n",
        "\n",
        "    avg_val_loss = total_val_loss / len(test_loader)\n",
        "    val_losses.append(avg_val_loss)\n",
        "\n",
        "    print(f\"Train Loss: {avg_train_loss:.4f} | Validation Loss: {avg_val_loss:.4f}\")\n",
        "\n",
        "    if avg_val_loss < best_val_loss:\n",
        "        best_val_loss = avg_val_loss\n",
        "        best_model_state = model.state_dict()\n",
        "        patience_counter = 0\n",
        "    else:\n",
        "        patience_counter += 1\n",
        "\n",
        "    if patience_counter >= patience:\n",
        "        print(f\"\\nEarly stopping triggered at epoch {epoch}\")\n",
        "        break\n",
        "\n",
        "# 📥 Bestes Modell laden\n",
        "model.load_state_dict(best_model_state)\n",
        "model.eval()\n",
        "\n",
        "# 🧾 Evaluation\n",
        "preds = []\n",
        "true = []\n",
        "\n",
        "with torch.no_grad():\n",
        "    for batch in test_loader:\n",
        "        batch = {k: v.to(device) for k, v in batch.items()}\n",
        "        logits = model(**batch).logits\n",
        "        preds.extend(torch.argmax(logits, dim=1).cpu().numpy())\n",
        "        true.extend(batch[\"labels\"].cpu().numpy())\n",
        "\n",
        "used_labels = np.unique(true)\n",
        "used_names = le.inverse_transform(used_labels)\n",
        "\n",
        "print(\"\\n✅ Classification Report:\\n\")\n",
        "print(classification_report(true, preds, labels=used_labels, target_names=used_names))\n",
        "print(\"✅ Accuracy:\", accuracy_score(true, preds))\n",
        "print(\"✅ Precision:\", precision_score(true, preds, average=\"weighted\"))\n",
        "print(\"✅ Recall:\", recall_score(true, preds, average=\"weighted\"))\n",
        "print(\"✅ F1 Score:\", f1_score(true, preds, average=\"weighted\"))\n"
      ],
      "metadata": {
        "colab": {
          "base_uri": "https://localhost:8080/",
          "height": 1000,
          "referenced_widgets": [
            "77602912cf744126b524fdb3a90ab054",
            "611c6c5c9f3a4ce7934f6849ceeff774",
            "6a0c5f12db1e44eb8f9adeff33ac0a91",
            "ea4e9fdab617464e9f498e33630e2152",
            "c6d0d58ad75e4e8cb47e3f1d69bc1340",
            "f91e5a62d34b40769363d381c75c9d3e",
            "89311373e7c94bd0b43112cc82d4e47a",
            "318396c05a544bdf9c98c509315f902b",
            "8012966334864cf39ce6365f7a5557a3",
            "b5629348f22a4a4a9cab19b563b91ea3",
            "366906f467b34d29ae168915e6e1934c",
            "7913e8bd220a46c2b1af5c3e1bee5d9f",
            "89e3aabc061d4b6cac8460f6ccef9ba7",
            "610e178fad534886a8aa956236818e9f",
            "59faddbaaaf142c9ad6e7ff966a954ef",
            "fe6047514ead447ea94a415190a9c2eb",
            "186d73eef3144b478bf9c51a90d08f70",
            "68f132416d314c689187bfa340ff0363",
            "e27fd73728044006b6eb24dea573e2d7",
            "cd06e1dca6074fcfb92c47427a70094b",
            "5e2ceae9bc4e4d19b0a9d1ab26f7e5fc",
            "c5e85234b6dc4e9fa0d1671ada41db0e"
          ]
        },
        "id": "VzRCLHQmfgWW",
        "outputId": "75ddace2-8300-49e6-86b4-10aa1f3263a2"
      },
      "execution_count": 2,
      "outputs": [
        {
          "output_type": "stream",
          "name": "stdout",
          "text": [
            "Original dataset size: 1607\n",
            "Filtered dataset size (removed classes with < 2 samples): 1517\n",
            "Removed labels: ['Chronic Obstructive Pulmonary Disease (COPD)', 'Benign Positional Vertigo', 'Pericarditis', 'Mononucleosis', 'Pancreatitis', 'Migraine with Aura', 'Esophageal Reflux', 'Diabetes Type 2', 'Lung Cancer', 'Scabies', 'Pulmonary Embolism', 'Gastrointestinal Infection', 'Myopia and Hyperopia', 'Seasonal Allergies', 'Cystitis', 'Gingivitis', 'Multiple Sclerosis', 'Tension Headaches', 'Pregnancy', 'Diabetes', 'Anxiety Disorder', 'Hereditary Hemorrhagic Telangiectasia', 'Bronchitis', 'Night Blindness', 'Streptococcal Pharyngitis', 'Dry Eye Syndrome', 'Chronic Migraine', 'Peripheral Artery Disease', 'Typhoid Fever', 'Tendinitis', 'Anorexia', 'Atopic Dermatitis', 'Polycystic Ovary Syndrome', 'Carpal Tunnel Syndrome', 'Malignant Melanoma', 'Gastroesophageal Reflux Disease (GERD)', 'Thyroid Cancer', 'Generalized Anxiety Disorder', \"Cushing's Syndrome\", 'Diabetes Type 1', 'Liver Disease', 'Esophageal Cancer', 'GERD', 'Laryngitis', 'Venous Insufficiency', 'Unexplained Weight Loss', 'Transient Ischemic Attack', 'Insomnia and Generalized Anxiety Disorder', 'Basal Cell Carcinoma', 'Cluster Headaches', 'Meningitis', 'Gastroenteritis', 'Severe Allergic Reaction', 'Hematuria', 'Uveitis', 'Oral Thrush', 'Lymphadenitis', \"Bell's Palsy\", 'Hepatitis C', 'Myocardial Infarction', 'Retinal Vein Occlusion', 'Frozen Shoulder', 'Aphthous Ulcers', 'Seborrheic Dermatitis', 'Paroxysmal Supraventricular Tachycardia', 'Constipation', 'Social Anxiety Disorder', 'Diplopia', 'Overactive Bladder', 'Exercise-Induced Asthma', 'Temporomandibular Joint Disorder', \"Athlete's Foot\", 'Peanut Allergy', \"Raynaud's Phenomenon\", 'Ulcerative Colitis', 'Cyanosis', 'Lupus', 'Melasma', 'Presbyopia', 'Nystagmus', 'Lymphoma', 'Anaphylaxis', 'Acid Reflux', 'Arrhythmia', 'Leukoplakia', 'Achilles Tendinitis', 'Esophageal Obstruction', 'Androgenetic Alopecia', 'Stroke', 'Eustachian Tube Dysfunction']\n"
          ]
        },
        {
          "output_type": "stream",
          "name": "stderr",
          "text": [
            "Asking to truncate to max_length but no maximum length is provided and the model has no predefined maximum length. Default to no truncation.\n"
          ]
        },
        {
          "output_type": "stream",
          "name": "stdout",
          "text": [
            "Train size: 1213, Test size: 304\n",
            "Train label distribution: Counter({68: 45, 52: 41, 67: 41, 81: 41, 13: 41, 82: 41, 62: 41, 104: 40, 0: 40, 23: 40, 102: 40, 99: 40, 96: 40, 103: 40, 94: 40, 8: 40, 55: 40, 16: 40, 17: 40, 28: 40, 100: 40, 41: 40, 33: 40, 101: 40, 84: 11, 54: 10, 20: 9, 53: 6, 85: 6, 78: 6, 22: 5, 57: 5, 19: 5, 60: 5, 25: 5, 66: 4, 91: 4, 7: 4, 51: 4, 38: 4, 90: 4, 12: 4, 9: 4, 79: 4, 95: 4, 92: 3, 3: 3, 76: 3, 35: 3, 48: 3, 83: 3, 72: 3, 73: 3, 4: 3, 1: 2, 75: 2, 32: 2, 31: 2, 40: 2, 39: 2, 58: 2, 2: 2, 42: 2, 71: 2, 24: 2, 74: 2, 46: 2, 86: 2, 97: 2, 11: 2, 5: 2, 69: 2, 87: 2, 15: 2, 21: 2, 37: 2, 63: 2, 45: 2, 34: 2, 64: 2, 49: 2, 10: 2, 77: 2, 88: 2, 43: 2, 47: 2, 36: 2, 50: 2, 29: 2, 65: 2, 80: 2, 89: 2, 56: 2, 6: 2, 27: 2, 18: 2, 14: 2, 70: 2, 30: 2, 26: 2, 61: 2, 59: 2, 98: 2, 93: 2, 44: 2})\n",
            "Test label distribution: Counter({13: 11, 62: 11, 68: 11, 81: 11, 82: 11, 52: 11, 96: 10, 55: 10, 33: 10, 103: 10, 17: 10, 16: 10, 23: 10, 100: 10, 67: 10, 41: 10, 101: 10, 0: 10, 102: 10, 28: 10, 8: 10, 104: 10, 94: 10, 99: 10, 84: 3, 54: 3, 25: 2, 20: 2, 78: 2, 57: 2, 19: 1, 3: 1, 39: 1, 12: 1, 66: 1, 92: 1, 83: 1, 53: 1, 95: 1, 85: 1, 2: 1, 1: 1, 36: 1, 91: 1, 35: 1, 10: 1, 27: 1, 7: 1, 9: 1, 60: 1, 73: 1, 51: 1, 22: 1, 21: 1, 11: 1, 42: 1, 79: 1, 48: 1, 14: 1, 65: 1, 34: 1, 56: 1, 38: 1, 88: 1, 45: 1, 89: 1, 43: 1, 44: 1, 64: 1, 72: 1, 4: 1, 90: 1, 47: 1, 76: 1})\n"
          ]
        },
        {
          "output_type": "display_data",
          "data": {
            "text/plain": [
              "pytorch_model.bin:   0%|          | 0.00/436M [00:00<?, ?B/s]"
            ],
            "application/vnd.jupyter.widget-view+json": {
              "version_major": 2,
              "version_minor": 0,
              "model_id": "77602912cf744126b524fdb3a90ab054"
            }
          },
          "metadata": {}
        },
        {
          "output_type": "display_data",
          "data": {
            "text/plain": [
              "model.safetensors:   0%|          | 0.00/436M [00:00<?, ?B/s]"
            ],
            "application/vnd.jupyter.widget-view+json": {
              "version_major": 2,
              "version_minor": 0,
              "model_id": "7913e8bd220a46c2b1af5c3e1bee5d9f"
            }
          },
          "metadata": {}
        },
        {
          "output_type": "stream",
          "name": "stderr",
          "text": [
            "Some weights of BertForSequenceClassification were not initialized from the model checkpoint at emilyalsentzer/Bio_ClinicalBERT and are newly initialized: ['classifier.bias', 'classifier.weight']\n",
            "You should probably TRAIN this model on a down-stream task to be able to use it for predictions and inference.\n"
          ]
        },
        {
          "output_type": "stream",
          "name": "stdout",
          "text": [
            "\n",
            "Epoch 1\n"
          ]
        },
        {
          "output_type": "stream",
          "name": "stderr",
          "text": [
            "\n",
            "  0%|          | 0/76 [00:00<?, ?it/s]\u001b[A\n",
            "  1%|▏         | 1/76 [00:10<13:17, 10.63s/it]\u001b[A\n",
            "  3%|▎         | 2/76 [00:19<12:03,  9.78s/it]\u001b[A\n",
            "  4%|▍         | 3/76 [00:29<11:35,  9.52s/it]\u001b[A\n",
            "  5%|▌         | 4/76 [00:38<11:14,  9.37s/it]\u001b[A\n",
            "  7%|▋         | 5/76 [00:47<10:57,  9.25s/it]\u001b[A\n",
            "  8%|▊         | 6/76 [00:56<10:49,  9.27s/it]\u001b[A\n",
            "  9%|▉         | 7/76 [01:05<10:35,  9.22s/it]\u001b[A\n",
            " 11%|█         | 8/76 [01:14<10:26,  9.21s/it]\u001b[A\n",
            " 12%|█▏        | 9/76 [01:24<10:21,  9.28s/it]\u001b[A\n",
            " 13%|█▎        | 10/76 [01:33<10:14,  9.31s/it]\u001b[A\n",
            " 14%|█▍        | 11/76 [01:43<10:10,  9.39s/it]\u001b[A\n",
            " 16%|█▌        | 12/76 [01:52<09:53,  9.27s/it]\u001b[A\n",
            " 17%|█▋        | 13/76 [02:01<09:46,  9.31s/it]\u001b[A\n",
            " 18%|█▊        | 14/76 [02:11<09:42,  9.40s/it]\u001b[A\n",
            " 20%|█▉        | 15/76 [02:20<09:33,  9.41s/it]\u001b[A\n",
            " 21%|██        | 16/76 [02:29<09:18,  9.31s/it]\u001b[A\n",
            " 22%|██▏       | 17/76 [02:38<09:05,  9.24s/it]\u001b[A\n",
            " 24%|██▎       | 18/76 [02:47<08:49,  9.12s/it]\u001b[A\n",
            " 25%|██▌       | 19/76 [02:56<08:41,  9.14s/it]\u001b[A\n",
            " 26%|██▋       | 20/76 [03:05<08:31,  9.13s/it]\u001b[A\n",
            " 28%|██▊       | 21/76 [03:15<08:22,  9.14s/it]\u001b[A\n",
            " 29%|██▉       | 22/76 [03:24<08:18,  9.24s/it]\u001b[A\n",
            " 30%|███       | 23/76 [03:33<08:02,  9.10s/it]\u001b[A\n",
            " 32%|███▏      | 24/76 [03:42<07:54,  9.12s/it]\u001b[A\n",
            " 33%|███▎      | 25/76 [03:51<07:45,  9.12s/it]\u001b[A\n",
            " 34%|███▍      | 26/76 [04:00<07:38,  9.18s/it]\u001b[A\n",
            " 36%|███▌      | 27/76 [04:10<07:28,  9.16s/it]\u001b[A\n",
            " 37%|███▋      | 28/76 [04:18<07:12,  9.02s/it]\u001b[A\n",
            " 38%|███▊      | 29/76 [04:27<07:04,  9.03s/it]\u001b[A\n",
            " 39%|███▉      | 30/76 [04:36<06:54,  9.01s/it]\u001b[A\n",
            " 41%|████      | 31/76 [04:45<06:45,  9.01s/it]\u001b[A\n",
            " 42%|████▏     | 32/76 [04:54<06:37,  9.03s/it]\u001b[A\n",
            " 43%|████▎     | 33/76 [05:03<06:25,  8.97s/it]\u001b[A\n",
            " 45%|████▍     | 34/76 [05:12<06:19,  9.03s/it]\u001b[A\n",
            " 46%|████▌     | 35/76 [05:21<06:09,  9.02s/it]\u001b[A\n",
            " 47%|████▋     | 36/76 [05:30<06:01,  9.03s/it]\u001b[A\n",
            " 49%|████▊     | 37/76 [05:39<05:50,  8.99s/it]\u001b[A\n",
            " 50%|█████     | 38/76 [05:48<05:40,  8.96s/it]\u001b[A\n",
            " 51%|█████▏    | 39/76 [05:57<05:32,  8.98s/it]\u001b[A\n",
            " 53%|█████▎    | 40/76 [06:06<05:23,  8.98s/it]\u001b[A\n",
            " 54%|█████▍    | 41/76 [06:17<05:28,  9.39s/it]\u001b[A\n",
            " 55%|█████▌    | 42/76 [06:26<05:15,  9.28s/it]\u001b[A\n",
            " 57%|█████▋    | 43/76 [06:35<05:04,  9.23s/it]\u001b[A\n",
            " 58%|█████▊    | 44/76 [06:44<04:56,  9.27s/it]\u001b[A\n",
            " 59%|█████▉    | 45/76 [06:54<04:50,  9.38s/it]\u001b[A\n",
            " 61%|██████    | 46/76 [07:03<04:40,  9.35s/it]\u001b[A\n",
            " 62%|██████▏   | 47/76 [07:12<04:28,  9.25s/it]\u001b[A\n",
            " 63%|██████▎   | 48/76 [07:21<04:14,  9.10s/it]\u001b[A\n",
            " 64%|██████▍   | 49/76 [07:30<04:04,  9.07s/it]\u001b[A\n",
            " 66%|██████▌   | 50/76 [07:39<03:55,  9.07s/it]\u001b[A\n",
            " 67%|██████▋   | 51/76 [07:48<03:46,  9.05s/it]\u001b[A\n",
            " 68%|██████▊   | 52/76 [07:57<03:37,  9.07s/it]\u001b[A\n",
            " 70%|██████▉   | 53/76 [08:06<03:26,  8.97s/it]\u001b[A\n",
            " 71%|███████   | 54/76 [08:15<03:17,  8.96s/it]\u001b[A\n",
            " 72%|███████▏  | 55/76 [08:23<03:07,  8.93s/it]\u001b[A\n",
            " 74%|███████▎  | 56/76 [08:32<02:58,  8.92s/it]\u001b[A\n",
            " 75%|███████▌  | 57/76 [08:41<02:47,  8.81s/it]\u001b[A\n",
            " 76%|███████▋  | 58/76 [08:50<02:38,  8.82s/it]\u001b[A\n",
            " 78%|███████▊  | 59/76 [08:59<02:30,  8.85s/it]\u001b[A\n",
            " 79%|███████▉  | 60/76 [09:08<02:22,  8.88s/it]\u001b[A\n",
            " 80%|████████  | 61/76 [09:17<02:13,  8.90s/it]\u001b[A\n",
            " 82%|████████▏ | 62/76 [09:25<02:02,  8.77s/it]\u001b[A\n",
            " 83%|████████▎ | 63/76 [09:34<01:54,  8.81s/it]\u001b[A\n",
            " 84%|████████▍ | 64/76 [09:43<01:46,  8.84s/it]\u001b[A\n",
            " 86%|████████▌ | 65/76 [09:52<01:37,  8.85s/it]\u001b[A\n",
            " 87%|████████▋ | 66/76 [10:00<01:27,  8.74s/it]\u001b[A\n",
            " 88%|████████▊ | 67/76 [10:09<01:18,  8.76s/it]\u001b[A\n",
            " 89%|████████▉ | 68/76 [10:18<01:10,  8.79s/it]\u001b[A\n",
            " 91%|█████████ | 69/76 [10:27<01:01,  8.78s/it]\u001b[A\n",
            " 92%|█████████▏| 70/76 [10:35<00:52,  8.72s/it]\u001b[A\n",
            " 93%|█████████▎| 71/76 [10:44<00:43,  8.68s/it]\u001b[A\n",
            " 95%|█████████▍| 72/76 [10:53<00:34,  8.73s/it]\u001b[A\n",
            " 96%|█████████▌| 73/76 [11:01<00:26,  8.74s/it]\u001b[A\n",
            " 97%|█████████▋| 74/76 [11:10<00:17,  8.74s/it]\u001b[A\n",
            " 99%|█████████▊| 75/76 [11:19<00:08,  8.66s/it]\u001b[A\n",
            "100%|██████████| 76/76 [11:26<00:00,  9.03s/it]\n"
          ]
        },
        {
          "output_type": "stream",
          "name": "stdout",
          "text": [
            "Train Loss: 4.2406 | Validation Loss: 3.7305\n",
            "\n",
            "Epoch 2\n"
          ]
        },
        {
          "output_type": "stream",
          "name": "stderr",
          "text": [
            "100%|██████████| 76/76 [11:25<00:00,  9.02s/it]\n"
          ]
        },
        {
          "output_type": "stream",
          "name": "stdout",
          "text": [
            "Train Loss: 3.4406 | Validation Loss: 3.0109\n",
            "\n",
            "Epoch 3\n"
          ]
        },
        {
          "output_type": "stream",
          "name": "stderr",
          "text": [
            "100%|██████████| 76/76 [11:02<00:00,  8.71s/it]\n"
          ]
        },
        {
          "output_type": "stream",
          "name": "stdout",
          "text": [
            "Train Loss: 2.7119 | Validation Loss: 2.3127\n",
            "\n",
            "Epoch 4\n"
          ]
        },
        {
          "output_type": "stream",
          "name": "stderr",
          "text": [
            "100%|██████████| 76/76 [10:58<00:00,  8.66s/it]\n"
          ]
        },
        {
          "output_type": "stream",
          "name": "stdout",
          "text": [
            "Train Loss: 2.0430 | Validation Loss: 1.7760\n",
            "\n",
            "Epoch 5\n"
          ]
        },
        {
          "output_type": "stream",
          "name": "stderr",
          "text": [
            "100%|██████████| 76/76 [11:02<00:00,  8.71s/it]\n"
          ]
        },
        {
          "output_type": "stream",
          "name": "stdout",
          "text": [
            "Train Loss: 1.5482 | Validation Loss: 1.4283\n",
            "\n",
            "Epoch 6\n"
          ]
        },
        {
          "output_type": "stream",
          "name": "stderr",
          "text": [
            "100%|██████████| 76/76 [11:07<00:00,  8.78s/it]\n"
          ]
        },
        {
          "output_type": "stream",
          "name": "stdout",
          "text": [
            "Train Loss: 1.2170 | Validation Loss: 1.2056\n",
            "\n",
            "Epoch 7\n"
          ]
        },
        {
          "output_type": "stream",
          "name": "stderr",
          "text": [
            "100%|██████████| 76/76 [11:00<00:00,  8.69s/it]\n"
          ]
        },
        {
          "output_type": "stream",
          "name": "stdout",
          "text": [
            "Train Loss: 1.0032 | Validation Loss: 1.0325\n",
            "\n",
            "Epoch 8\n"
          ]
        },
        {
          "output_type": "stream",
          "name": "stderr",
          "text": [
            "100%|██████████| 76/76 [11:13<00:00,  8.86s/it]\n"
          ]
        },
        {
          "output_type": "stream",
          "name": "stdout",
          "text": [
            "Train Loss: 0.8577 | Validation Loss: 0.9071\n",
            "\n",
            "Epoch 9\n"
          ]
        },
        {
          "output_type": "stream",
          "name": "stderr",
          "text": [
            "100%|██████████| 76/76 [11:03<00:00,  8.73s/it]\n"
          ]
        },
        {
          "output_type": "stream",
          "name": "stdout",
          "text": [
            "Train Loss: 0.7532 | Validation Loss: 0.8335\n",
            "\n",
            "Epoch 10\n"
          ]
        },
        {
          "output_type": "stream",
          "name": "stderr",
          "text": [
            "100%|██████████| 76/76 [10:57<00:00,  8.66s/it]\n"
          ]
        },
        {
          "output_type": "stream",
          "name": "stdout",
          "text": [
            "Train Loss: 0.6647 | Validation Loss: 0.7761\n",
            "\n",
            "Epoch 11\n"
          ]
        },
        {
          "output_type": "stream",
          "name": "stderr",
          "text": [
            "100%|██████████| 76/76 [10:56<00:00,  8.64s/it]\n"
          ]
        },
        {
          "output_type": "stream",
          "name": "stdout",
          "text": [
            "Train Loss: 0.6208 | Validation Loss: 0.7219\n",
            "\n",
            "Epoch 12\n"
          ]
        },
        {
          "output_type": "stream",
          "name": "stderr",
          "text": [
            "100%|██████████| 76/76 [10:54<00:00,  8.62s/it]\n"
          ]
        },
        {
          "output_type": "stream",
          "name": "stdout",
          "text": [
            "Train Loss: 0.5464 | Validation Loss: 0.6871\n",
            "\n",
            "Epoch 13\n"
          ]
        },
        {
          "output_type": "stream",
          "name": "stderr",
          "text": [
            "100%|██████████| 76/76 [10:58<00:00,  8.67s/it]\n"
          ]
        },
        {
          "output_type": "stream",
          "name": "stdout",
          "text": [
            "Train Loss: 0.5004 | Validation Loss: 0.6707\n",
            "\n",
            "Epoch 14\n"
          ]
        },
        {
          "output_type": "stream",
          "name": "stderr",
          "text": [
            "100%|██████████| 76/76 [11:01<00:00,  8.70s/it]\n"
          ]
        },
        {
          "output_type": "stream",
          "name": "stdout",
          "text": [
            "Train Loss: 0.4587 | Validation Loss: 0.6145\n",
            "\n",
            "Epoch 15\n"
          ]
        },
        {
          "output_type": "stream",
          "name": "stderr",
          "text": [
            "100%|██████████| 76/76 [10:59<00:00,  8.68s/it]\n"
          ]
        },
        {
          "output_type": "stream",
          "name": "stdout",
          "text": [
            "Train Loss: 0.4183 | Validation Loss: 0.6162\n",
            "\n",
            "Epoch 16\n"
          ]
        },
        {
          "output_type": "stream",
          "name": "stderr",
          "text": [
            "100%|██████████| 76/76 [11:12<00:00,  8.84s/it]\n"
          ]
        },
        {
          "output_type": "stream",
          "name": "stdout",
          "text": [
            "Train Loss: 0.3837 | Validation Loss: 0.5875\n",
            "\n",
            "Epoch 17\n"
          ]
        },
        {
          "output_type": "stream",
          "name": "stderr",
          "text": [
            "100%|██████████| 76/76 [11:19<00:00,  8.94s/it]\n"
          ]
        },
        {
          "output_type": "stream",
          "name": "stdout",
          "text": [
            "Train Loss: 0.3483 | Validation Loss: 0.5612\n",
            "\n",
            "Epoch 18\n"
          ]
        },
        {
          "output_type": "stream",
          "name": "stderr",
          "text": [
            "100%|██████████| 76/76 [11:34<00:00,  9.13s/it]\n"
          ]
        },
        {
          "output_type": "stream",
          "name": "stdout",
          "text": [
            "Train Loss: 0.3167 | Validation Loss: 0.5408\n",
            "\n",
            "Epoch 19\n"
          ]
        },
        {
          "output_type": "stream",
          "name": "stderr",
          "text": [
            "100%|██████████| 76/76 [12:20<00:00,  9.75s/it]\n"
          ]
        },
        {
          "output_type": "stream",
          "name": "stdout",
          "text": [
            "Train Loss: 0.2943 | Validation Loss: 0.5096\n",
            "\n",
            "Epoch 20\n"
          ]
        },
        {
          "output_type": "stream",
          "name": "stderr",
          "text": [
            "100%|██████████| 76/76 [11:55<00:00,  9.41s/it]\n"
          ]
        },
        {
          "output_type": "stream",
          "name": "stdout",
          "text": [
            "Train Loss: 0.2684 | Validation Loss: 0.5119\n",
            "\n",
            "Epoch 21\n"
          ]
        },
        {
          "output_type": "stream",
          "name": "stderr",
          "text": [
            "100%|██████████| 76/76 [11:44<00:00,  9.27s/it]\n"
          ]
        },
        {
          "output_type": "stream",
          "name": "stdout",
          "text": [
            "Train Loss: 0.2445 | Validation Loss: 0.5105\n",
            "\n",
            "Epoch 22\n"
          ]
        },
        {
          "output_type": "stream",
          "name": "stderr",
          "text": [
            "100%|██████████| 76/76 [11:30<00:00,  9.09s/it]\n"
          ]
        },
        {
          "output_type": "stream",
          "name": "stdout",
          "text": [
            "Train Loss: 0.2249 | Validation Loss: 0.4930\n",
            "\n",
            "Epoch 23\n"
          ]
        },
        {
          "output_type": "stream",
          "name": "stderr",
          "text": [
            "100%|██████████| 76/76 [11:13<00:00,  8.86s/it]\n"
          ]
        },
        {
          "output_type": "stream",
          "name": "stdout",
          "text": [
            "Train Loss: 0.2078 | Validation Loss: 0.4812\n",
            "\n",
            "Epoch 24\n"
          ]
        },
        {
          "output_type": "stream",
          "name": "stderr",
          "text": [
            "100%|██████████| 76/76 [10:57<00:00,  8.65s/it]\n"
          ]
        },
        {
          "output_type": "stream",
          "name": "stdout",
          "text": [
            "Train Loss: 0.1935 | Validation Loss: 0.4732\n",
            "\n",
            "Epoch 25\n"
          ]
        },
        {
          "output_type": "stream",
          "name": "stderr",
          "text": [
            "100%|██████████| 76/76 [10:57<00:00,  8.65s/it]\n"
          ]
        },
        {
          "output_type": "stream",
          "name": "stdout",
          "text": [
            "Train Loss: 0.1751 | Validation Loss: 0.4624\n",
            "\n",
            "Epoch 26\n"
          ]
        },
        {
          "output_type": "stream",
          "name": "stderr",
          "text": [
            "100%|██████████| 76/76 [11:03<00:00,  8.73s/it]\n"
          ]
        },
        {
          "output_type": "stream",
          "name": "stdout",
          "text": [
            "Train Loss: 0.1580 | Validation Loss: 0.4644\n",
            "\n",
            "Epoch 27\n"
          ]
        },
        {
          "output_type": "stream",
          "name": "stderr",
          "text": [
            "100%|██████████| 76/76 [11:02<00:00,  8.71s/it]\n"
          ]
        },
        {
          "output_type": "stream",
          "name": "stdout",
          "text": [
            "Train Loss: 0.1478 | Validation Loss: 0.4562\n",
            "\n",
            "Epoch 28\n"
          ]
        },
        {
          "output_type": "stream",
          "name": "stderr",
          "text": [
            "100%|██████████| 76/76 [10:56<00:00,  8.63s/it]\n"
          ]
        },
        {
          "output_type": "stream",
          "name": "stdout",
          "text": [
            "Train Loss: 0.1362 | Validation Loss: 0.4640\n",
            "\n",
            "Epoch 29\n"
          ]
        },
        {
          "output_type": "stream",
          "name": "stderr",
          "text": [
            "100%|██████████| 76/76 [10:55<00:00,  8.63s/it]\n"
          ]
        },
        {
          "output_type": "stream",
          "name": "stdout",
          "text": [
            "Train Loss: 0.1219 | Validation Loss: 0.4486\n",
            "\n",
            "Epoch 30\n"
          ]
        },
        {
          "output_type": "stream",
          "name": "stderr",
          "text": [
            "100%|██████████| 76/76 [10:55<00:00,  8.62s/it]\n"
          ]
        },
        {
          "output_type": "stream",
          "name": "stdout",
          "text": [
            "Train Loss: 0.1103 | Validation Loss: 0.4376\n",
            "\n",
            "Epoch 31\n"
          ]
        },
        {
          "output_type": "stream",
          "name": "stderr",
          "text": [
            "100%|██████████| 76/76 [10:54<00:00,  8.61s/it]\n"
          ]
        },
        {
          "output_type": "stream",
          "name": "stdout",
          "text": [
            "Train Loss: 0.1055 | Validation Loss: 0.4579\n",
            "\n",
            "Epoch 32\n"
          ]
        },
        {
          "output_type": "stream",
          "name": "stderr",
          "text": [
            "100%|██████████| 76/76 [10:54<00:00,  8.61s/it]\n"
          ]
        },
        {
          "output_type": "stream",
          "name": "stdout",
          "text": [
            "Train Loss: 0.0975 | Validation Loss: 0.4360\n",
            "\n",
            "Epoch 33\n"
          ]
        },
        {
          "output_type": "stream",
          "name": "stderr",
          "text": [
            "100%|██████████| 76/76 [10:55<00:00,  8.63s/it]\n"
          ]
        },
        {
          "output_type": "stream",
          "name": "stdout",
          "text": [
            "Train Loss: 0.0892 | Validation Loss: 0.4360\n",
            "\n",
            "Epoch 34\n"
          ]
        },
        {
          "output_type": "stream",
          "name": "stderr",
          "text": [
            "100%|██████████| 76/76 [10:54<00:00,  8.62s/it]\n"
          ]
        },
        {
          "output_type": "stream",
          "name": "stdout",
          "text": [
            "Train Loss: 0.0804 | Validation Loss: 0.4375\n",
            "\n",
            "Epoch 35\n"
          ]
        },
        {
          "output_type": "stream",
          "name": "stderr",
          "text": [
            "100%|██████████| 76/76 [10:58<00:00,  8.66s/it]\n"
          ]
        },
        {
          "output_type": "stream",
          "name": "stdout",
          "text": [
            "Train Loss: 0.0744 | Validation Loss: 0.4358\n",
            "\n",
            "Epoch 36\n"
          ]
        },
        {
          "output_type": "stream",
          "name": "stderr",
          "text": [
            "100%|██████████| 76/76 [10:58<00:00,  8.67s/it]\n"
          ]
        },
        {
          "output_type": "stream",
          "name": "stdout",
          "text": [
            "Train Loss: 0.0671 | Validation Loss: 0.4338\n",
            "\n",
            "Epoch 37\n"
          ]
        },
        {
          "output_type": "stream",
          "name": "stderr",
          "text": [
            "100%|██████████| 76/76 [11:00<00:00,  8.69s/it]\n"
          ]
        },
        {
          "output_type": "stream",
          "name": "stdout",
          "text": [
            "Train Loss: 0.0627 | Validation Loss: 0.4429\n",
            "\n",
            "Epoch 38\n"
          ]
        },
        {
          "output_type": "stream",
          "name": "stderr",
          "text": [
            "100%|██████████| 76/76 [10:57<00:00,  8.65s/it]\n"
          ]
        },
        {
          "output_type": "stream",
          "name": "stdout",
          "text": [
            "Train Loss: 0.0600 | Validation Loss: 0.4396\n",
            "\n",
            "Epoch 39\n"
          ]
        },
        {
          "output_type": "stream",
          "name": "stderr",
          "text": [
            "100%|██████████| 76/76 [10:55<00:00,  8.63s/it]\n"
          ]
        },
        {
          "output_type": "stream",
          "name": "stdout",
          "text": [
            "Train Loss: 0.0559 | Validation Loss: 0.4327\n",
            "\n",
            "Epoch 40\n"
          ]
        },
        {
          "output_type": "stream",
          "name": "stderr",
          "text": [
            "100%|██████████| 76/76 [10:58<00:00,  8.67s/it]\n"
          ]
        },
        {
          "output_type": "stream",
          "name": "stdout",
          "text": [
            "Train Loss: 0.0498 | Validation Loss: 0.4375\n",
            "\n",
            "Epoch 41\n"
          ]
        },
        {
          "output_type": "stream",
          "name": "stderr",
          "text": [
            "100%|██████████| 76/76 [10:58<00:00,  8.67s/it]\n"
          ]
        },
        {
          "output_type": "stream",
          "name": "stdout",
          "text": [
            "Train Loss: 0.0471 | Validation Loss: 0.4361\n",
            "\n",
            "Epoch 42\n"
          ]
        },
        {
          "output_type": "stream",
          "name": "stderr",
          "text": [
            "100%|██████████| 76/76 [11:04<00:00,  8.75s/it]\n"
          ]
        },
        {
          "output_type": "stream",
          "name": "stdout",
          "text": [
            "Train Loss: 0.0441 | Validation Loss: 0.4421\n",
            "\n",
            "Early stopping triggered at epoch 42\n",
            "\n",
            "✅ Classification Report:\n",
            "\n",
            "                                          precision    recall  f1-score   support\n",
            "\n",
            "                                    Acne       1.00      1.00      1.00        10\n",
            "        Age-related Macular Degeneration       0.00      0.00      0.00         1\n",
            "                       Allergic Rhinitis       1.00      1.00      1.00         1\n",
            "                         Alopecia Areata       1.00      1.00      1.00         1\n",
            "                     Alzheimer's Disease       0.00      0.00      0.00         1\n",
            "                            Appendicitis       0.50      1.00      0.67         1\n",
            "                               Arthritis       1.00      1.00      1.00        10\n",
            "                                  Asthma       1.00      1.00      1.00         1\n",
            "                     Atrial Fibrillation       0.00      0.00      0.00         1\n",
            "Attention Deficit Hyperactivity Disorder       0.50      1.00      0.67         1\n",
            "                        Bipolar Disorder       1.00      1.00      1.00         1\n",
            "                        Bronchial Asthma       1.00      0.91      0.95        11\n",
            "                                COVID-19       1.00      1.00      1.00         1\n",
            "                    Cervical spondylosis       1.00      1.00      1.00        10\n",
            "                             Chicken pox       1.00      0.80      0.89        10\n",
            "                      Chronic Bronchitis       0.25      1.00      0.40         1\n",
            "                Chronic Fatigue Syndrome       1.00      0.50      0.67         2\n",
            "   Chronic Obstructive Pulmonary Disease       0.00      0.00      0.00         1\n",
            "                       Colorectal Cancer       1.00      1.00      1.00         1\n",
            "                             Common Cold       1.00      1.00      1.00        10\n",
            "                      Contact Dermatitis       1.00      1.00      1.00         2\n",
            "                    Deep Vein Thrombosis       0.00      0.00      0.00         1\n",
            "                                  Dengue       0.83      1.00      0.91        10\n",
            "                   Dimorphic Hemorrhoids       1.00      1.00      1.00        10\n",
            "                    Early Onset Dementia       0.00      0.00      0.00         1\n",
            "                                  Eczema       0.00      0.00      0.00         1\n",
            "                   Electrolyte Imbalance       1.00      1.00      1.00         1\n",
            "                    Esophageal Stricture       0.00      0.00      0.00         1\n",
            "                             Esophagitis       0.00      0.00      0.00         1\n",
            "                        Fungal infection       1.00      1.00      1.00        10\n",
            "                              Gallstones       0.00      0.00      0.00         1\n",
            "                               Gastritis       0.00      0.00      0.00         1\n",
            "         Gastroesophageal Reflux Disease       0.00      0.00      0.00         1\n",
            "                                    Gout       0.00      0.00      0.00         1\n",
            "                              Hemophilia       0.00      0.00      0.00         1\n",
            "                               Hepatitis       1.00      1.00      1.00         1\n",
            "                           Hyperhidrosis       0.00      0.00      0.00         1\n",
            "                            Hypertension       1.00      1.00      1.00        11\n",
            "                         Hyperthyroidism       0.50      1.00      0.67         1\n",
            "                          Hypothyroidism       1.00      0.67      0.80         3\n",
            "                                Impetigo       1.00      1.00      1.00        10\n",
            "                               Influenza       0.00      0.00      0.00         1\n",
            "                                Insomnia       1.00      0.50      0.67         2\n",
            "                Irritable Bowel Syndrome       0.50      1.00      0.67         1\n",
            "                                Jaundice       1.00      1.00      1.00        11\n",
            "                     Knee Osteoarthritis       1.00      1.00      1.00         1\n",
            "                                Leukemia       0.00      0.00      0.00         1\n",
            "               Major Depressive Disorder       1.00      1.00      1.00         1\n",
            "                                 Malaria       1.00      1.00      1.00        10\n",
            "                                Migraine       1.00      0.82      0.90        11\n",
            "                                  Myopia       0.00      0.00      0.00         1\n",
            "                 Orthostatic Hypotension       1.00      1.00      1.00         1\n",
            "                     Parkinson's Disease       1.00      1.00      1.00         1\n",
            "                   Peripheral Neuropathy       1.00      1.00      1.00         2\n",
            "                             Pharyngitis       1.00      1.00      1.00         1\n",
            "                               Pneumonia       1.00      0.91      0.95        11\n",
            "                               Psoriasis       0.90      0.82      0.86        11\n",
            "                      Retinal Detachment       1.00      1.00      1.00         1\n",
            "                    Rheumatoid Arthritis       0.75      1.00      0.86         3\n",
            "                                Sciatica       1.00      1.00      1.00         1\n",
            "                 Subarachnoid Hemorrhage       1.00      1.00      1.00         1\n",
            "                          Thyroid Nodule       1.00      1.00      1.00         1\n",
            "                                Tinnitus       1.00      1.00      1.00         1\n",
            "                            Tuberculosis       0.33      1.00      0.50         1\n",
            "                         Type 1 Diabetes       1.00      1.00      1.00         1\n",
            "                                 Typhoid       0.91      1.00      0.95        10\n",
            "                 Urinary Tract Infection       1.00      1.00      1.00         1\n",
            "                          Varicose Veins       0.91      1.00      0.95        10\n",
            "                                 allergy       1.00      1.00      1.00        10\n",
            "                                diabetes       1.00      1.00      1.00        10\n",
            "                           drug reaction       1.00      1.00      1.00        10\n",
            "         gastroesophageal reflux disease       1.00      1.00      1.00        10\n",
            "                    peptic ulcer disease       0.91      1.00      0.95        10\n",
            "                 urinary tract infection       1.00      0.90      0.95        10\n",
            "\n",
            "                               micro avg       0.93      0.90      0.91       304\n",
            "                               macro avg       0.70      0.73      0.70       304\n",
            "                            weighted avg       0.91      0.90      0.90       304\n",
            "\n",
            "✅ Accuracy: 0.9013157894736842\n",
            "✅ Precision: 0.9090111642743223\n",
            "✅ Recall: 0.9013157894736842\n",
            "✅ F1 Score: 0.8997060034456157\n"
          ]
        },
        {
          "output_type": "stream",
          "name": "stderr",
          "text": [
            "/usr/local/lib/python3.11/dist-packages/sklearn/metrics/_classification.py:1565: UndefinedMetricWarning: Precision is ill-defined and being set to 0.0 in labels with no predicted samples. Use `zero_division` parameter to control this behavior.\n",
            "  _warn_prf(average, modifier, f\"{metric.capitalize()} is\", len(result))\n",
            "/usr/local/lib/python3.11/dist-packages/sklearn/metrics/_classification.py:1565: UndefinedMetricWarning: Precision is ill-defined and being set to 0.0 in labels with no predicted samples. Use `zero_division` parameter to control this behavior.\n",
            "  _warn_prf(average, modifier, f\"{metric.capitalize()} is\", len(result))\n",
            "/usr/local/lib/python3.11/dist-packages/sklearn/metrics/_classification.py:1565: UndefinedMetricWarning: Precision is ill-defined and being set to 0.0 in labels with no predicted samples. Use `zero_division` parameter to control this behavior.\n",
            "  _warn_prf(average, modifier, f\"{metric.capitalize()} is\", len(result))\n",
            "/usr/local/lib/python3.11/dist-packages/sklearn/metrics/_classification.py:1565: UndefinedMetricWarning: Precision is ill-defined and being set to 0.0 in labels with no predicted samples. Use `zero_division` parameter to control this behavior.\n",
            "  _warn_prf(average, modifier, f\"{metric.capitalize()} is\", len(result))\n",
            "/usr/local/lib/python3.11/dist-packages/sklearn/metrics/_classification.py:1565: UndefinedMetricWarning: Recall is ill-defined and being set to 0.0 in labels with no true samples. Use `zero_division` parameter to control this behavior.\n",
            "  _warn_prf(average, modifier, f\"{metric.capitalize()} is\", len(result))\n"
          ]
        }
      ]
    }
  ]
}