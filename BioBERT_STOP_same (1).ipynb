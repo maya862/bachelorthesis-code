{
  "nbformat": 4,
  "nbformat_minor": 0,
  "metadata": {
    "colab": {
      "provenance": []
    },
    "kernelspec": {
      "name": "python3",
      "display_name": "Python 3"
    },
    "language_info": {
      "name": "python"
    },
    "widgets": {
      "application/vnd.jupyter.widget-state+json": {
        "d8afd79655aa4a8181d14cafba147896": {
          "model_module": "@jupyter-widgets/controls",
          "model_name": "HBoxModel",
          "model_module_version": "1.5.0",
          "state": {
            "_dom_classes": [],
            "_model_module": "@jupyter-widgets/controls",
            "_model_module_version": "1.5.0",
            "_model_name": "HBoxModel",
            "_view_count": null,
            "_view_module": "@jupyter-widgets/controls",
            "_view_module_version": "1.5.0",
            "_view_name": "HBoxView",
            "box_style": "",
            "children": [
              "IPY_MODEL_94020c03bec74153875ac1b993f0b6b7",
              "IPY_MODEL_2e5d6bfceef14667ba911dfe7188639a",
              "IPY_MODEL_e4f7b512f1384494afe1460a7a38b0ff"
            ],
            "layout": "IPY_MODEL_7d434c2dba9a46e9ad3325bd4a7c13a1"
          }
        },
        "94020c03bec74153875ac1b993f0b6b7": {
          "model_module": "@jupyter-widgets/controls",
          "model_name": "HTMLModel",
          "model_module_version": "1.5.0",
          "state": {
            "_dom_classes": [],
            "_model_module": "@jupyter-widgets/controls",
            "_model_module_version": "1.5.0",
            "_model_name": "HTMLModel",
            "_view_count": null,
            "_view_module": "@jupyter-widgets/controls",
            "_view_module_version": "1.5.0",
            "_view_name": "HTMLView",
            "description": "",
            "description_tooltip": null,
            "layout": "IPY_MODEL_832142f700a3496398dac312b2316d5c",
            "placeholder": "​",
            "style": "IPY_MODEL_1b8a24dacaf3410cbf1552be53ba7293",
            "value": "config.json: 100%"
          }
        },
        "2e5d6bfceef14667ba911dfe7188639a": {
          "model_module": "@jupyter-widgets/controls",
          "model_name": "FloatProgressModel",
          "model_module_version": "1.5.0",
          "state": {
            "_dom_classes": [],
            "_model_module": "@jupyter-widgets/controls",
            "_model_module_version": "1.5.0",
            "_model_name": "FloatProgressModel",
            "_view_count": null,
            "_view_module": "@jupyter-widgets/controls",
            "_view_module_version": "1.5.0",
            "_view_name": "ProgressView",
            "bar_style": "success",
            "description": "",
            "description_tooltip": null,
            "layout": "IPY_MODEL_1d5698b765fd413aa8c0f3a530958647",
            "max": 313,
            "min": 0,
            "orientation": "horizontal",
            "style": "IPY_MODEL_8efca16cb42045beb48888ad92f287f4",
            "value": 313
          }
        },
        "e4f7b512f1384494afe1460a7a38b0ff": {
          "model_module": "@jupyter-widgets/controls",
          "model_name": "HTMLModel",
          "model_module_version": "1.5.0",
          "state": {
            "_dom_classes": [],
            "_model_module": "@jupyter-widgets/controls",
            "_model_module_version": "1.5.0",
            "_model_name": "HTMLModel",
            "_view_count": null,
            "_view_module": "@jupyter-widgets/controls",
            "_view_module_version": "1.5.0",
            "_view_name": "HTMLView",
            "description": "",
            "description_tooltip": null,
            "layout": "IPY_MODEL_b3ccd60286a9467f86bd22abd37fc37d",
            "placeholder": "​",
            "style": "IPY_MODEL_90ca3e4ac9c6437f8ca536fd697939ac",
            "value": " 313/313 [00:00&lt;00:00, 24.2kB/s]"
          }
        },
        "7d434c2dba9a46e9ad3325bd4a7c13a1": {
          "model_module": "@jupyter-widgets/base",
          "model_name": "LayoutModel",
          "model_module_version": "1.2.0",
          "state": {
            "_model_module": "@jupyter-widgets/base",
            "_model_module_version": "1.2.0",
            "_model_name": "LayoutModel",
            "_view_count": null,
            "_view_module": "@jupyter-widgets/base",
            "_view_module_version": "1.2.0",
            "_view_name": "LayoutView",
            "align_content": null,
            "align_items": null,
            "align_self": null,
            "border": null,
            "bottom": null,
            "display": null,
            "flex": null,
            "flex_flow": null,
            "grid_area": null,
            "grid_auto_columns": null,
            "grid_auto_flow": null,
            "grid_auto_rows": null,
            "grid_column": null,
            "grid_gap": null,
            "grid_row": null,
            "grid_template_areas": null,
            "grid_template_columns": null,
            "grid_template_rows": null,
            "height": null,
            "justify_content": null,
            "justify_items": null,
            "left": null,
            "margin": null,
            "max_height": null,
            "max_width": null,
            "min_height": null,
            "min_width": null,
            "object_fit": null,
            "object_position": null,
            "order": null,
            "overflow": null,
            "overflow_x": null,
            "overflow_y": null,
            "padding": null,
            "right": null,
            "top": null,
            "visibility": null,
            "width": null
          }
        },
        "832142f700a3496398dac312b2316d5c": {
          "model_module": "@jupyter-widgets/base",
          "model_name": "LayoutModel",
          "model_module_version": "1.2.0",
          "state": {
            "_model_module": "@jupyter-widgets/base",
            "_model_module_version": "1.2.0",
            "_model_name": "LayoutModel",
            "_view_count": null,
            "_view_module": "@jupyter-widgets/base",
            "_view_module_version": "1.2.0",
            "_view_name": "LayoutView",
            "align_content": null,
            "align_items": null,
            "align_self": null,
            "border": null,
            "bottom": null,
            "display": null,
            "flex": null,
            "flex_flow": null,
            "grid_area": null,
            "grid_auto_columns": null,
            "grid_auto_flow": null,
            "grid_auto_rows": null,
            "grid_column": null,
            "grid_gap": null,
            "grid_row": null,
            "grid_template_areas": null,
            "grid_template_columns": null,
            "grid_template_rows": null,
            "height": null,
            "justify_content": null,
            "justify_items": null,
            "left": null,
            "margin": null,
            "max_height": null,
            "max_width": null,
            "min_height": null,
            "min_width": null,
            "object_fit": null,
            "object_position": null,
            "order": null,
            "overflow": null,
            "overflow_x": null,
            "overflow_y": null,
            "padding": null,
            "right": null,
            "top": null,
            "visibility": null,
            "width": null
          }
        },
        "1b8a24dacaf3410cbf1552be53ba7293": {
          "model_module": "@jupyter-widgets/controls",
          "model_name": "DescriptionStyleModel",
          "model_module_version": "1.5.0",
          "state": {
            "_model_module": "@jupyter-widgets/controls",
            "_model_module_version": "1.5.0",
            "_model_name": "DescriptionStyleModel",
            "_view_count": null,
            "_view_module": "@jupyter-widgets/base",
            "_view_module_version": "1.2.0",
            "_view_name": "StyleView",
            "description_width": ""
          }
        },
        "1d5698b765fd413aa8c0f3a530958647": {
          "model_module": "@jupyter-widgets/base",
          "model_name": "LayoutModel",
          "model_module_version": "1.2.0",
          "state": {
            "_model_module": "@jupyter-widgets/base",
            "_model_module_version": "1.2.0",
            "_model_name": "LayoutModel",
            "_view_count": null,
            "_view_module": "@jupyter-widgets/base",
            "_view_module_version": "1.2.0",
            "_view_name": "LayoutView",
            "align_content": null,
            "align_items": null,
            "align_self": null,
            "border": null,
            "bottom": null,
            "display": null,
            "flex": null,
            "flex_flow": null,
            "grid_area": null,
            "grid_auto_columns": null,
            "grid_auto_flow": null,
            "grid_auto_rows": null,
            "grid_column": null,
            "grid_gap": null,
            "grid_row": null,
            "grid_template_areas": null,
            "grid_template_columns": null,
            "grid_template_rows": null,
            "height": null,
            "justify_content": null,
            "justify_items": null,
            "left": null,
            "margin": null,
            "max_height": null,
            "max_width": null,
            "min_height": null,
            "min_width": null,
            "object_fit": null,
            "object_position": null,
            "order": null,
            "overflow": null,
            "overflow_x": null,
            "overflow_y": null,
            "padding": null,
            "right": null,
            "top": null,
            "visibility": null,
            "width": null
          }
        },
        "8efca16cb42045beb48888ad92f287f4": {
          "model_module": "@jupyter-widgets/controls",
          "model_name": "ProgressStyleModel",
          "model_module_version": "1.5.0",
          "state": {
            "_model_module": "@jupyter-widgets/controls",
            "_model_module_version": "1.5.0",
            "_model_name": "ProgressStyleModel",
            "_view_count": null,
            "_view_module": "@jupyter-widgets/base",
            "_view_module_version": "1.2.0",
            "_view_name": "StyleView",
            "bar_color": null,
            "description_width": ""
          }
        },
        "b3ccd60286a9467f86bd22abd37fc37d": {
          "model_module": "@jupyter-widgets/base",
          "model_name": "LayoutModel",
          "model_module_version": "1.2.0",
          "state": {
            "_model_module": "@jupyter-widgets/base",
            "_model_module_version": "1.2.0",
            "_model_name": "LayoutModel",
            "_view_count": null,
            "_view_module": "@jupyter-widgets/base",
            "_view_module_version": "1.2.0",
            "_view_name": "LayoutView",
            "align_content": null,
            "align_items": null,
            "align_self": null,
            "border": null,
            "bottom": null,
            "display": null,
            "flex": null,
            "flex_flow": null,
            "grid_area": null,
            "grid_auto_columns": null,
            "grid_auto_flow": null,
            "grid_auto_rows": null,
            "grid_column": null,
            "grid_gap": null,
            "grid_row": null,
            "grid_template_areas": null,
            "grid_template_columns": null,
            "grid_template_rows": null,
            "height": null,
            "justify_content": null,
            "justify_items": null,
            "left": null,
            "margin": null,
            "max_height": null,
            "max_width": null,
            "min_height": null,
            "min_width": null,
            "object_fit": null,
            "object_position": null,
            "order": null,
            "overflow": null,
            "overflow_x": null,
            "overflow_y": null,
            "padding": null,
            "right": null,
            "top": null,
            "visibility": null,
            "width": null
          }
        },
        "90ca3e4ac9c6437f8ca536fd697939ac": {
          "model_module": "@jupyter-widgets/controls",
          "model_name": "DescriptionStyleModel",
          "model_module_version": "1.5.0",
          "state": {
            "_model_module": "@jupyter-widgets/controls",
            "_model_module_version": "1.5.0",
            "_model_name": "DescriptionStyleModel",
            "_view_count": null,
            "_view_module": "@jupyter-widgets/base",
            "_view_module_version": "1.2.0",
            "_view_name": "StyleView",
            "description_width": ""
          }
        },
        "5116ac34f5124dfdaf9e1790d84250df": {
          "model_module": "@jupyter-widgets/controls",
          "model_name": "HBoxModel",
          "model_module_version": "1.5.0",
          "state": {
            "_dom_classes": [],
            "_model_module": "@jupyter-widgets/controls",
            "_model_module_version": "1.5.0",
            "_model_name": "HBoxModel",
            "_view_count": null,
            "_view_module": "@jupyter-widgets/controls",
            "_view_module_version": "1.5.0",
            "_view_name": "HBoxView",
            "box_style": "",
            "children": [
              "IPY_MODEL_ea7b2c39a47a46d0a02cae5d0e77fd12",
              "IPY_MODEL_49fedc718f054b588d4ab158a6d89d42",
              "IPY_MODEL_49326a62faf0424182bd6f7e0d4b17b3"
            ],
            "layout": "IPY_MODEL_22de372473cb497cabed3d5e8ce4e571"
          }
        },
        "ea7b2c39a47a46d0a02cae5d0e77fd12": {
          "model_module": "@jupyter-widgets/controls",
          "model_name": "HTMLModel",
          "model_module_version": "1.5.0",
          "state": {
            "_dom_classes": [],
            "_model_module": "@jupyter-widgets/controls",
            "_model_module_version": "1.5.0",
            "_model_name": "HTMLModel",
            "_view_count": null,
            "_view_module": "@jupyter-widgets/controls",
            "_view_module_version": "1.5.0",
            "_view_name": "HTMLView",
            "description": "",
            "description_tooltip": null,
            "layout": "IPY_MODEL_64cfa8f373ea4fa19335e7fcc7afd855",
            "placeholder": "​",
            "style": "IPY_MODEL_4b54722cf68c4a0cad30c5e36beef6fe",
            "value": "vocab.txt: 100%"
          }
        },
        "49fedc718f054b588d4ab158a6d89d42": {
          "model_module": "@jupyter-widgets/controls",
          "model_name": "FloatProgressModel",
          "model_module_version": "1.5.0",
          "state": {
            "_dom_classes": [],
            "_model_module": "@jupyter-widgets/controls",
            "_model_module_version": "1.5.0",
            "_model_name": "FloatProgressModel",
            "_view_count": null,
            "_view_module": "@jupyter-widgets/controls",
            "_view_module_version": "1.5.0",
            "_view_name": "ProgressView",
            "bar_style": "success",
            "description": "",
            "description_tooltip": null,
            "layout": "IPY_MODEL_d6133dc7e40d41e6828673dd2ae81797",
            "max": 213450,
            "min": 0,
            "orientation": "horizontal",
            "style": "IPY_MODEL_b529d8dee21749b2a03d0796c0c1f94a",
            "value": 213450
          }
        },
        "49326a62faf0424182bd6f7e0d4b17b3": {
          "model_module": "@jupyter-widgets/controls",
          "model_name": "HTMLModel",
          "model_module_version": "1.5.0",
          "state": {
            "_dom_classes": [],
            "_model_module": "@jupyter-widgets/controls",
            "_model_module_version": "1.5.0",
            "_model_name": "HTMLModel",
            "_view_count": null,
            "_view_module": "@jupyter-widgets/controls",
            "_view_module_version": "1.5.0",
            "_view_name": "HTMLView",
            "description": "",
            "description_tooltip": null,
            "layout": "IPY_MODEL_c2805c2574274c25b74533ae41c9f161",
            "placeholder": "​",
            "style": "IPY_MODEL_2b42c0bc21bd4c7c907a27e76b507c03",
            "value": " 213k/213k [00:00&lt;00:00, 7.69MB/s]"
          }
        },
        "22de372473cb497cabed3d5e8ce4e571": {
          "model_module": "@jupyter-widgets/base",
          "model_name": "LayoutModel",
          "model_module_version": "1.2.0",
          "state": {
            "_model_module": "@jupyter-widgets/base",
            "_model_module_version": "1.2.0",
            "_model_name": "LayoutModel",
            "_view_count": null,
            "_view_module": "@jupyter-widgets/base",
            "_view_module_version": "1.2.0",
            "_view_name": "LayoutView",
            "align_content": null,
            "align_items": null,
            "align_self": null,
            "border": null,
            "bottom": null,
            "display": null,
            "flex": null,
            "flex_flow": null,
            "grid_area": null,
            "grid_auto_columns": null,
            "grid_auto_flow": null,
            "grid_auto_rows": null,
            "grid_column": null,
            "grid_gap": null,
            "grid_row": null,
            "grid_template_areas": null,
            "grid_template_columns": null,
            "grid_template_rows": null,
            "height": null,
            "justify_content": null,
            "justify_items": null,
            "left": null,
            "margin": null,
            "max_height": null,
            "max_width": null,
            "min_height": null,
            "min_width": null,
            "object_fit": null,
            "object_position": null,
            "order": null,
            "overflow": null,
            "overflow_x": null,
            "overflow_y": null,
            "padding": null,
            "right": null,
            "top": null,
            "visibility": null,
            "width": null
          }
        },
        "64cfa8f373ea4fa19335e7fcc7afd855": {
          "model_module": "@jupyter-widgets/base",
          "model_name": "LayoutModel",
          "model_module_version": "1.2.0",
          "state": {
            "_model_module": "@jupyter-widgets/base",
            "_model_module_version": "1.2.0",
            "_model_name": "LayoutModel",
            "_view_count": null,
            "_view_module": "@jupyter-widgets/base",
            "_view_module_version": "1.2.0",
            "_view_name": "LayoutView",
            "align_content": null,
            "align_items": null,
            "align_self": null,
            "border": null,
            "bottom": null,
            "display": null,
            "flex": null,
            "flex_flow": null,
            "grid_area": null,
            "grid_auto_columns": null,
            "grid_auto_flow": null,
            "grid_auto_rows": null,
            "grid_column": null,
            "grid_gap": null,
            "grid_row": null,
            "grid_template_areas": null,
            "grid_template_columns": null,
            "grid_template_rows": null,
            "height": null,
            "justify_content": null,
            "justify_items": null,
            "left": null,
            "margin": null,
            "max_height": null,
            "max_width": null,
            "min_height": null,
            "min_width": null,
            "object_fit": null,
            "object_position": null,
            "order": null,
            "overflow": null,
            "overflow_x": null,
            "overflow_y": null,
            "padding": null,
            "right": null,
            "top": null,
            "visibility": null,
            "width": null
          }
        },
        "4b54722cf68c4a0cad30c5e36beef6fe": {
          "model_module": "@jupyter-widgets/controls",
          "model_name": "DescriptionStyleModel",
          "model_module_version": "1.5.0",
          "state": {
            "_model_module": "@jupyter-widgets/controls",
            "_model_module_version": "1.5.0",
            "_model_name": "DescriptionStyleModel",
            "_view_count": null,
            "_view_module": "@jupyter-widgets/base",
            "_view_module_version": "1.2.0",
            "_view_name": "StyleView",
            "description_width": ""
          }
        },
        "d6133dc7e40d41e6828673dd2ae81797": {
          "model_module": "@jupyter-widgets/base",
          "model_name": "LayoutModel",
          "model_module_version": "1.2.0",
          "state": {
            "_model_module": "@jupyter-widgets/base",
            "_model_module_version": "1.2.0",
            "_model_name": "LayoutModel",
            "_view_count": null,
            "_view_module": "@jupyter-widgets/base",
            "_view_module_version": "1.2.0",
            "_view_name": "LayoutView",
            "align_content": null,
            "align_items": null,
            "align_self": null,
            "border": null,
            "bottom": null,
            "display": null,
            "flex": null,
            "flex_flow": null,
            "grid_area": null,
            "grid_auto_columns": null,
            "grid_auto_flow": null,
            "grid_auto_rows": null,
            "grid_column": null,
            "grid_gap": null,
            "grid_row": null,
            "grid_template_areas": null,
            "grid_template_columns": null,
            "grid_template_rows": null,
            "height": null,
            "justify_content": null,
            "justify_items": null,
            "left": null,
            "margin": null,
            "max_height": null,
            "max_width": null,
            "min_height": null,
            "min_width": null,
            "object_fit": null,
            "object_position": null,
            "order": null,
            "overflow": null,
            "overflow_x": null,
            "overflow_y": null,
            "padding": null,
            "right": null,
            "top": null,
            "visibility": null,
            "width": null
          }
        },
        "b529d8dee21749b2a03d0796c0c1f94a": {
          "model_module": "@jupyter-widgets/controls",
          "model_name": "ProgressStyleModel",
          "model_module_version": "1.5.0",
          "state": {
            "_model_module": "@jupyter-widgets/controls",
            "_model_module_version": "1.5.0",
            "_model_name": "ProgressStyleModel",
            "_view_count": null,
            "_view_module": "@jupyter-widgets/base",
            "_view_module_version": "1.2.0",
            "_view_name": "StyleView",
            "bar_color": null,
            "description_width": ""
          }
        },
        "c2805c2574274c25b74533ae41c9f161": {
          "model_module": "@jupyter-widgets/base",
          "model_name": "LayoutModel",
          "model_module_version": "1.2.0",
          "state": {
            "_model_module": "@jupyter-widgets/base",
            "_model_module_version": "1.2.0",
            "_model_name": "LayoutModel",
            "_view_count": null,
            "_view_module": "@jupyter-widgets/base",
            "_view_module_version": "1.2.0",
            "_view_name": "LayoutView",
            "align_content": null,
            "align_items": null,
            "align_self": null,
            "border": null,
            "bottom": null,
            "display": null,
            "flex": null,
            "flex_flow": null,
            "grid_area": null,
            "grid_auto_columns": null,
            "grid_auto_flow": null,
            "grid_auto_rows": null,
            "grid_column": null,
            "grid_gap": null,
            "grid_row": null,
            "grid_template_areas": null,
            "grid_template_columns": null,
            "grid_template_rows": null,
            "height": null,
            "justify_content": null,
            "justify_items": null,
            "left": null,
            "margin": null,
            "max_height": null,
            "max_width": null,
            "min_height": null,
            "min_width": null,
            "object_fit": null,
            "object_position": null,
            "order": null,
            "overflow": null,
            "overflow_x": null,
            "overflow_y": null,
            "padding": null,
            "right": null,
            "top": null,
            "visibility": null,
            "width": null
          }
        },
        "2b42c0bc21bd4c7c907a27e76b507c03": {
          "model_module": "@jupyter-widgets/controls",
          "model_name": "DescriptionStyleModel",
          "model_module_version": "1.5.0",
          "state": {
            "_model_module": "@jupyter-widgets/controls",
            "_model_module_version": "1.5.0",
            "_model_name": "DescriptionStyleModel",
            "_view_count": null,
            "_view_module": "@jupyter-widgets/base",
            "_view_module_version": "1.2.0",
            "_view_name": "StyleView",
            "description_width": ""
          }
        },
        "e8c74dd591844e6d9f7d9c74160ffc4a": {
          "model_module": "@jupyter-widgets/controls",
          "model_name": "HBoxModel",
          "model_module_version": "1.5.0",
          "state": {
            "_dom_classes": [],
            "_model_module": "@jupyter-widgets/controls",
            "_model_module_version": "1.5.0",
            "_model_name": "HBoxModel",
            "_view_count": null,
            "_view_module": "@jupyter-widgets/controls",
            "_view_module_version": "1.5.0",
            "_view_name": "HBoxView",
            "box_style": "",
            "children": [
              "IPY_MODEL_91f782ffc72444a7927147533962cff0",
              "IPY_MODEL_c2f51b6fbefc466ab70d5cc17141929a",
              "IPY_MODEL_cfd5cc65a0f84118a7344aae5961c647"
            ],
            "layout": "IPY_MODEL_7a2d753daa71405b8cba8281d5c9db87"
          }
        },
        "91f782ffc72444a7927147533962cff0": {
          "model_module": "@jupyter-widgets/controls",
          "model_name": "HTMLModel",
          "model_module_version": "1.5.0",
          "state": {
            "_dom_classes": [],
            "_model_module": "@jupyter-widgets/controls",
            "_model_module_version": "1.5.0",
            "_model_name": "HTMLModel",
            "_view_count": null,
            "_view_module": "@jupyter-widgets/controls",
            "_view_module_version": "1.5.0",
            "_view_name": "HTMLView",
            "description": "",
            "description_tooltip": null,
            "layout": "IPY_MODEL_68494cde51974748934f6030de39bb53",
            "placeholder": "​",
            "style": "IPY_MODEL_e1ba1572bdf0444a9078e69b6200f845",
            "value": "pytorch_model.bin: 100%"
          }
        },
        "c2f51b6fbefc466ab70d5cc17141929a": {
          "model_module": "@jupyter-widgets/controls",
          "model_name": "FloatProgressModel",
          "model_module_version": "1.5.0",
          "state": {
            "_dom_classes": [],
            "_model_module": "@jupyter-widgets/controls",
            "_model_module_version": "1.5.0",
            "_model_name": "FloatProgressModel",
            "_view_count": null,
            "_view_module": "@jupyter-widgets/controls",
            "_view_module_version": "1.5.0",
            "_view_name": "ProgressView",
            "bar_style": "success",
            "description": "",
            "description_tooltip": null,
            "layout": "IPY_MODEL_09c8600ef6a34b8b958ccfc28fe68341",
            "max": 435780550,
            "min": 0,
            "orientation": "horizontal",
            "style": "IPY_MODEL_a986f913f16c4fa98a682f4e313fb6de",
            "value": 435780550
          }
        },
        "cfd5cc65a0f84118a7344aae5961c647": {
          "model_module": "@jupyter-widgets/controls",
          "model_name": "HTMLModel",
          "model_module_version": "1.5.0",
          "state": {
            "_dom_classes": [],
            "_model_module": "@jupyter-widgets/controls",
            "_model_module_version": "1.5.0",
            "_model_name": "HTMLModel",
            "_view_count": null,
            "_view_module": "@jupyter-widgets/controls",
            "_view_module_version": "1.5.0",
            "_view_name": "HTMLView",
            "description": "",
            "description_tooltip": null,
            "layout": "IPY_MODEL_17105203fbe24330958edaed6c1f1a5d",
            "placeholder": "​",
            "style": "IPY_MODEL_ff2a8bb706ab406eb19df67f142c0d33",
            "value": " 436M/436M [00:02&lt;00:00, 238MB/s]"
          }
        },
        "7a2d753daa71405b8cba8281d5c9db87": {
          "model_module": "@jupyter-widgets/base",
          "model_name": "LayoutModel",
          "model_module_version": "1.2.0",
          "state": {
            "_model_module": "@jupyter-widgets/base",
            "_model_module_version": "1.2.0",
            "_model_name": "LayoutModel",
            "_view_count": null,
            "_view_module": "@jupyter-widgets/base",
            "_view_module_version": "1.2.0",
            "_view_name": "LayoutView",
            "align_content": null,
            "align_items": null,
            "align_self": null,
            "border": null,
            "bottom": null,
            "display": null,
            "flex": null,
            "flex_flow": null,
            "grid_area": null,
            "grid_auto_columns": null,
            "grid_auto_flow": null,
            "grid_auto_rows": null,
            "grid_column": null,
            "grid_gap": null,
            "grid_row": null,
            "grid_template_areas": null,
            "grid_template_columns": null,
            "grid_template_rows": null,
            "height": null,
            "justify_content": null,
            "justify_items": null,
            "left": null,
            "margin": null,
            "max_height": null,
            "max_width": null,
            "min_height": null,
            "min_width": null,
            "object_fit": null,
            "object_position": null,
            "order": null,
            "overflow": null,
            "overflow_x": null,
            "overflow_y": null,
            "padding": null,
            "right": null,
            "top": null,
            "visibility": null,
            "width": null
          }
        },
        "68494cde51974748934f6030de39bb53": {
          "model_module": "@jupyter-widgets/base",
          "model_name": "LayoutModel",
          "model_module_version": "1.2.0",
          "state": {
            "_model_module": "@jupyter-widgets/base",
            "_model_module_version": "1.2.0",
            "_model_name": "LayoutModel",
            "_view_count": null,
            "_view_module": "@jupyter-widgets/base",
            "_view_module_version": "1.2.0",
            "_view_name": "LayoutView",
            "align_content": null,
            "align_items": null,
            "align_self": null,
            "border": null,
            "bottom": null,
            "display": null,
            "flex": null,
            "flex_flow": null,
            "grid_area": null,
            "grid_auto_columns": null,
            "grid_auto_flow": null,
            "grid_auto_rows": null,
            "grid_column": null,
            "grid_gap": null,
            "grid_row": null,
            "grid_template_areas": null,
            "grid_template_columns": null,
            "grid_template_rows": null,
            "height": null,
            "justify_content": null,
            "justify_items": null,
            "left": null,
            "margin": null,
            "max_height": null,
            "max_width": null,
            "min_height": null,
            "min_width": null,
            "object_fit": null,
            "object_position": null,
            "order": null,
            "overflow": null,
            "overflow_x": null,
            "overflow_y": null,
            "padding": null,
            "right": null,
            "top": null,
            "visibility": null,
            "width": null
          }
        },
        "e1ba1572bdf0444a9078e69b6200f845": {
          "model_module": "@jupyter-widgets/controls",
          "model_name": "DescriptionStyleModel",
          "model_module_version": "1.5.0",
          "state": {
            "_model_module": "@jupyter-widgets/controls",
            "_model_module_version": "1.5.0",
            "_model_name": "DescriptionStyleModel",
            "_view_count": null,
            "_view_module": "@jupyter-widgets/base",
            "_view_module_version": "1.2.0",
            "_view_name": "StyleView",
            "description_width": ""
          }
        },
        "09c8600ef6a34b8b958ccfc28fe68341": {
          "model_module": "@jupyter-widgets/base",
          "model_name": "LayoutModel",
          "model_module_version": "1.2.0",
          "state": {
            "_model_module": "@jupyter-widgets/base",
            "_model_module_version": "1.2.0",
            "_model_name": "LayoutModel",
            "_view_count": null,
            "_view_module": "@jupyter-widgets/base",
            "_view_module_version": "1.2.0",
            "_view_name": "LayoutView",
            "align_content": null,
            "align_items": null,
            "align_self": null,
            "border": null,
            "bottom": null,
            "display": null,
            "flex": null,
            "flex_flow": null,
            "grid_area": null,
            "grid_auto_columns": null,
            "grid_auto_flow": null,
            "grid_auto_rows": null,
            "grid_column": null,
            "grid_gap": null,
            "grid_row": null,
            "grid_template_areas": null,
            "grid_template_columns": null,
            "grid_template_rows": null,
            "height": null,
            "justify_content": null,
            "justify_items": null,
            "left": null,
            "margin": null,
            "max_height": null,
            "max_width": null,
            "min_height": null,
            "min_width": null,
            "object_fit": null,
            "object_position": null,
            "order": null,
            "overflow": null,
            "overflow_x": null,
            "overflow_y": null,
            "padding": null,
            "right": null,
            "top": null,
            "visibility": null,
            "width": null
          }
        },
        "a986f913f16c4fa98a682f4e313fb6de": {
          "model_module": "@jupyter-widgets/controls",
          "model_name": "ProgressStyleModel",
          "model_module_version": "1.5.0",
          "state": {
            "_model_module": "@jupyter-widgets/controls",
            "_model_module_version": "1.5.0",
            "_model_name": "ProgressStyleModel",
            "_view_count": null,
            "_view_module": "@jupyter-widgets/base",
            "_view_module_version": "1.2.0",
            "_view_name": "StyleView",
            "bar_color": null,
            "description_width": ""
          }
        },
        "17105203fbe24330958edaed6c1f1a5d": {
          "model_module": "@jupyter-widgets/base",
          "model_name": "LayoutModel",
          "model_module_version": "1.2.0",
          "state": {
            "_model_module": "@jupyter-widgets/base",
            "_model_module_version": "1.2.0",
            "_model_name": "LayoutModel",
            "_view_count": null,
            "_view_module": "@jupyter-widgets/base",
            "_view_module_version": "1.2.0",
            "_view_name": "LayoutView",
            "align_content": null,
            "align_items": null,
            "align_self": null,
            "border": null,
            "bottom": null,
            "display": null,
            "flex": null,
            "flex_flow": null,
            "grid_area": null,
            "grid_auto_columns": null,
            "grid_auto_flow": null,
            "grid_auto_rows": null,
            "grid_column": null,
            "grid_gap": null,
            "grid_row": null,
            "grid_template_areas": null,
            "grid_template_columns": null,
            "grid_template_rows": null,
            "height": null,
            "justify_content": null,
            "justify_items": null,
            "left": null,
            "margin": null,
            "max_height": null,
            "max_width": null,
            "min_height": null,
            "min_width": null,
            "object_fit": null,
            "object_position": null,
            "order": null,
            "overflow": null,
            "overflow_x": null,
            "overflow_y": null,
            "padding": null,
            "right": null,
            "top": null,
            "visibility": null,
            "width": null
          }
        },
        "ff2a8bb706ab406eb19df67f142c0d33": {
          "model_module": "@jupyter-widgets/controls",
          "model_name": "DescriptionStyleModel",
          "model_module_version": "1.5.0",
          "state": {
            "_model_module": "@jupyter-widgets/controls",
            "_model_module_version": "1.5.0",
            "_model_name": "DescriptionStyleModel",
            "_view_count": null,
            "_view_module": "@jupyter-widgets/base",
            "_view_module_version": "1.2.0",
            "_view_name": "StyleView",
            "description_width": ""
          }
        },
        "e07672d591e34d5c89cc01ba7b0fbf7c": {
          "model_module": "@jupyter-widgets/controls",
          "model_name": "HBoxModel",
          "model_module_version": "1.5.0",
          "state": {
            "_dom_classes": [],
            "_model_module": "@jupyter-widgets/controls",
            "_model_module_version": "1.5.0",
            "_model_name": "HBoxModel",
            "_view_count": null,
            "_view_module": "@jupyter-widgets/controls",
            "_view_module_version": "1.5.0",
            "_view_name": "HBoxView",
            "box_style": "",
            "children": [
              "IPY_MODEL_d1bc89215117424286154d9e23eda09d",
              "IPY_MODEL_1bf6c3222fbe4334a8561b18bfc08c6a",
              "IPY_MODEL_f75aca282bf94e0e85749c4a91e287b8"
            ],
            "layout": "IPY_MODEL_945db7452e164388a17a8748eb1df645"
          }
        },
        "d1bc89215117424286154d9e23eda09d": {
          "model_module": "@jupyter-widgets/controls",
          "model_name": "HTMLModel",
          "model_module_version": "1.5.0",
          "state": {
            "_dom_classes": [],
            "_model_module": "@jupyter-widgets/controls",
            "_model_module_version": "1.5.0",
            "_model_name": "HTMLModel",
            "_view_count": null,
            "_view_module": "@jupyter-widgets/controls",
            "_view_module_version": "1.5.0",
            "_view_name": "HTMLView",
            "description": "",
            "description_tooltip": null,
            "layout": "IPY_MODEL_30bbef5ef8bf4553bab852e03689e819",
            "placeholder": "​",
            "style": "IPY_MODEL_90952490e3194226b087d572e27f6cfe",
            "value": "model.safetensors: 100%"
          }
        },
        "1bf6c3222fbe4334a8561b18bfc08c6a": {
          "model_module": "@jupyter-widgets/controls",
          "model_name": "FloatProgressModel",
          "model_module_version": "1.5.0",
          "state": {
            "_dom_classes": [],
            "_model_module": "@jupyter-widgets/controls",
            "_model_module_version": "1.5.0",
            "_model_name": "FloatProgressModel",
            "_view_count": null,
            "_view_module": "@jupyter-widgets/controls",
            "_view_module_version": "1.5.0",
            "_view_name": "ProgressView",
            "bar_style": "success",
            "description": "",
            "description_tooltip": null,
            "layout": "IPY_MODEL_a0cb3cff45814e588bf29d5acf52c03e",
            "max": 435755944,
            "min": 0,
            "orientation": "horizontal",
            "style": "IPY_MODEL_59f3e4b0fd7b423b955f23a650173364",
            "value": 435755944
          }
        },
        "f75aca282bf94e0e85749c4a91e287b8": {
          "model_module": "@jupyter-widgets/controls",
          "model_name": "HTMLModel",
          "model_module_version": "1.5.0",
          "state": {
            "_dom_classes": [],
            "_model_module": "@jupyter-widgets/controls",
            "_model_module_version": "1.5.0",
            "_model_name": "HTMLModel",
            "_view_count": null,
            "_view_module": "@jupyter-widgets/controls",
            "_view_module_version": "1.5.0",
            "_view_name": "HTMLView",
            "description": "",
            "description_tooltip": null,
            "layout": "IPY_MODEL_b659490664b0415e8652199eb5b2591f",
            "placeholder": "​",
            "style": "IPY_MODEL_17078e0b20e740e9ac06ae2de26c9072",
            "value": " 436M/436M [00:03&lt;00:00, 173MB/s]"
          }
        },
        "945db7452e164388a17a8748eb1df645": {
          "model_module": "@jupyter-widgets/base",
          "model_name": "LayoutModel",
          "model_module_version": "1.2.0",
          "state": {
            "_model_module": "@jupyter-widgets/base",
            "_model_module_version": "1.2.0",
            "_model_name": "LayoutModel",
            "_view_count": null,
            "_view_module": "@jupyter-widgets/base",
            "_view_module_version": "1.2.0",
            "_view_name": "LayoutView",
            "align_content": null,
            "align_items": null,
            "align_self": null,
            "border": null,
            "bottom": null,
            "display": null,
            "flex": null,
            "flex_flow": null,
            "grid_area": null,
            "grid_auto_columns": null,
            "grid_auto_flow": null,
            "grid_auto_rows": null,
            "grid_column": null,
            "grid_gap": null,
            "grid_row": null,
            "grid_template_areas": null,
            "grid_template_columns": null,
            "grid_template_rows": null,
            "height": null,
            "justify_content": null,
            "justify_items": null,
            "left": null,
            "margin": null,
            "max_height": null,
            "max_width": null,
            "min_height": null,
            "min_width": null,
            "object_fit": null,
            "object_position": null,
            "order": null,
            "overflow": null,
            "overflow_x": null,
            "overflow_y": null,
            "padding": null,
            "right": null,
            "top": null,
            "visibility": null,
            "width": null
          }
        },
        "30bbef5ef8bf4553bab852e03689e819": {
          "model_module": "@jupyter-widgets/base",
          "model_name": "LayoutModel",
          "model_module_version": "1.2.0",
          "state": {
            "_model_module": "@jupyter-widgets/base",
            "_model_module_version": "1.2.0",
            "_model_name": "LayoutModel",
            "_view_count": null,
            "_view_module": "@jupyter-widgets/base",
            "_view_module_version": "1.2.0",
            "_view_name": "LayoutView",
            "align_content": null,
            "align_items": null,
            "align_self": null,
            "border": null,
            "bottom": null,
            "display": null,
            "flex": null,
            "flex_flow": null,
            "grid_area": null,
            "grid_auto_columns": null,
            "grid_auto_flow": null,
            "grid_auto_rows": null,
            "grid_column": null,
            "grid_gap": null,
            "grid_row": null,
            "grid_template_areas": null,
            "grid_template_columns": null,
            "grid_template_rows": null,
            "height": null,
            "justify_content": null,
            "justify_items": null,
            "left": null,
            "margin": null,
            "max_height": null,
            "max_width": null,
            "min_height": null,
            "min_width": null,
            "object_fit": null,
            "object_position": null,
            "order": null,
            "overflow": null,
            "overflow_x": null,
            "overflow_y": null,
            "padding": null,
            "right": null,
            "top": null,
            "visibility": null,
            "width": null
          }
        },
        "90952490e3194226b087d572e27f6cfe": {
          "model_module": "@jupyter-widgets/controls",
          "model_name": "DescriptionStyleModel",
          "model_module_version": "1.5.0",
          "state": {
            "_model_module": "@jupyter-widgets/controls",
            "_model_module_version": "1.5.0",
            "_model_name": "DescriptionStyleModel",
            "_view_count": null,
            "_view_module": "@jupyter-widgets/base",
            "_view_module_version": "1.2.0",
            "_view_name": "StyleView",
            "description_width": ""
          }
        },
        "a0cb3cff45814e588bf29d5acf52c03e": {
          "model_module": "@jupyter-widgets/base",
          "model_name": "LayoutModel",
          "model_module_version": "1.2.0",
          "state": {
            "_model_module": "@jupyter-widgets/base",
            "_model_module_version": "1.2.0",
            "_model_name": "LayoutModel",
            "_view_count": null,
            "_view_module": "@jupyter-widgets/base",
            "_view_module_version": "1.2.0",
            "_view_name": "LayoutView",
            "align_content": null,
            "align_items": null,
            "align_self": null,
            "border": null,
            "bottom": null,
            "display": null,
            "flex": null,
            "flex_flow": null,
            "grid_area": null,
            "grid_auto_columns": null,
            "grid_auto_flow": null,
            "grid_auto_rows": null,
            "grid_column": null,
            "grid_gap": null,
            "grid_row": null,
            "grid_template_areas": null,
            "grid_template_columns": null,
            "grid_template_rows": null,
            "height": null,
            "justify_content": null,
            "justify_items": null,
            "left": null,
            "margin": null,
            "max_height": null,
            "max_width": null,
            "min_height": null,
            "min_width": null,
            "object_fit": null,
            "object_position": null,
            "order": null,
            "overflow": null,
            "overflow_x": null,
            "overflow_y": null,
            "padding": null,
            "right": null,
            "top": null,
            "visibility": null,
            "width": null
          }
        },
        "59f3e4b0fd7b423b955f23a650173364": {
          "model_module": "@jupyter-widgets/controls",
          "model_name": "ProgressStyleModel",
          "model_module_version": "1.5.0",
          "state": {
            "_model_module": "@jupyter-widgets/controls",
            "_model_module_version": "1.5.0",
            "_model_name": "ProgressStyleModel",
            "_view_count": null,
            "_view_module": "@jupyter-widgets/base",
            "_view_module_version": "1.2.0",
            "_view_name": "StyleView",
            "bar_color": null,
            "description_width": ""
          }
        },
        "b659490664b0415e8652199eb5b2591f": {
          "model_module": "@jupyter-widgets/base",
          "model_name": "LayoutModel",
          "model_module_version": "1.2.0",
          "state": {
            "_model_module": "@jupyter-widgets/base",
            "_model_module_version": "1.2.0",
            "_model_name": "LayoutModel",
            "_view_count": null,
            "_view_module": "@jupyter-widgets/base",
            "_view_module_version": "1.2.0",
            "_view_name": "LayoutView",
            "align_content": null,
            "align_items": null,
            "align_self": null,
            "border": null,
            "bottom": null,
            "display": null,
            "flex": null,
            "flex_flow": null,
            "grid_area": null,
            "grid_auto_columns": null,
            "grid_auto_flow": null,
            "grid_auto_rows": null,
            "grid_column": null,
            "grid_gap": null,
            "grid_row": null,
            "grid_template_areas": null,
            "grid_template_columns": null,
            "grid_template_rows": null,
            "height": null,
            "justify_content": null,
            "justify_items": null,
            "left": null,
            "margin": null,
            "max_height": null,
            "max_width": null,
            "min_height": null,
            "min_width": null,
            "object_fit": null,
            "object_position": null,
            "order": null,
            "overflow": null,
            "overflow_x": null,
            "overflow_y": null,
            "padding": null,
            "right": null,
            "top": null,
            "visibility": null,
            "width": null
          }
        },
        "17078e0b20e740e9ac06ae2de26c9072": {
          "model_module": "@jupyter-widgets/controls",
          "model_name": "DescriptionStyleModel",
          "model_module_version": "1.5.0",
          "state": {
            "_model_module": "@jupyter-widgets/controls",
            "_model_module_version": "1.5.0",
            "_model_name": "DescriptionStyleModel",
            "_view_count": null,
            "_view_module": "@jupyter-widgets/base",
            "_view_module_version": "1.2.0",
            "_view_name": "StyleView",
            "description_width": ""
          }
        }
      }
    }
  },
  "cells": [
    {
      "cell_type": "code",
      "execution_count": 1,
      "metadata": {
        "colab": {
          "base_uri": "https://localhost:8080/",
          "height": 1000,
          "referenced_widgets": [
            "d8afd79655aa4a8181d14cafba147896",
            "94020c03bec74153875ac1b993f0b6b7",
            "2e5d6bfceef14667ba911dfe7188639a",
            "e4f7b512f1384494afe1460a7a38b0ff",
            "7d434c2dba9a46e9ad3325bd4a7c13a1",
            "832142f700a3496398dac312b2316d5c",
            "1b8a24dacaf3410cbf1552be53ba7293",
            "1d5698b765fd413aa8c0f3a530958647",
            "8efca16cb42045beb48888ad92f287f4",
            "b3ccd60286a9467f86bd22abd37fc37d",
            "90ca3e4ac9c6437f8ca536fd697939ac",
            "5116ac34f5124dfdaf9e1790d84250df",
            "ea7b2c39a47a46d0a02cae5d0e77fd12",
            "49fedc718f054b588d4ab158a6d89d42",
            "49326a62faf0424182bd6f7e0d4b17b3",
            "22de372473cb497cabed3d5e8ce4e571",
            "64cfa8f373ea4fa19335e7fcc7afd855",
            "4b54722cf68c4a0cad30c5e36beef6fe",
            "d6133dc7e40d41e6828673dd2ae81797",
            "b529d8dee21749b2a03d0796c0c1f94a",
            "c2805c2574274c25b74533ae41c9f161",
            "2b42c0bc21bd4c7c907a27e76b507c03",
            "e8c74dd591844e6d9f7d9c74160ffc4a",
            "91f782ffc72444a7927147533962cff0",
            "c2f51b6fbefc466ab70d5cc17141929a",
            "cfd5cc65a0f84118a7344aae5961c647",
            "7a2d753daa71405b8cba8281d5c9db87",
            "68494cde51974748934f6030de39bb53",
            "e1ba1572bdf0444a9078e69b6200f845",
            "09c8600ef6a34b8b958ccfc28fe68341",
            "a986f913f16c4fa98a682f4e313fb6de",
            "17105203fbe24330958edaed6c1f1a5d",
            "ff2a8bb706ab406eb19df67f142c0d33",
            "e07672d591e34d5c89cc01ba7b0fbf7c",
            "d1bc89215117424286154d9e23eda09d",
            "1bf6c3222fbe4334a8561b18bfc08c6a",
            "f75aca282bf94e0e85749c4a91e287b8",
            "945db7452e164388a17a8748eb1df645",
            "30bbef5ef8bf4553bab852e03689e819",
            "90952490e3194226b087d572e27f6cfe",
            "a0cb3cff45814e588bf29d5acf52c03e",
            "59f3e4b0fd7b423b955f23a650173364",
            "b659490664b0415e8652199eb5b2591f",
            "17078e0b20e740e9ac06ae2de26c9072"
          ]
        },
        "id": "-44m3uD1uaoH",
        "outputId": "0ce60238-0171-4312-b1e1-21d58bb55da1"
      },
      "outputs": [
        {
          "output_type": "stream",
          "name": "stdout",
          "text": [
            "Original dataset size: 1607\n",
            "Filtered dataset size (removed classes with < 2 samples): 1517\n",
            "Removed labels: ['Chronic Obstructive Pulmonary Disease (COPD)', 'Benign Positional Vertigo', 'Pericarditis', 'Mononucleosis', 'Pancreatitis', 'Migraine with Aura', 'Esophageal Reflux', 'Diabetes Type 2', 'Lung Cancer', 'Scabies', 'Pulmonary Embolism', 'Gastrointestinal Infection', 'Myopia and Hyperopia', 'Seasonal Allergies', 'Cystitis', 'Gingivitis', 'Multiple Sclerosis', 'Tension Headaches', 'Pregnancy', 'Diabetes', 'Anxiety Disorder', 'Hereditary Hemorrhagic Telangiectasia', 'Bronchitis', 'Night Blindness', 'Streptococcal Pharyngitis', 'Dry Eye Syndrome', 'Chronic Migraine', 'Peripheral Artery Disease', 'Typhoid Fever', 'Tendinitis', 'Anorexia', 'Atopic Dermatitis', 'Polycystic Ovary Syndrome', 'Carpal Tunnel Syndrome', 'Malignant Melanoma', 'Gastroesophageal Reflux Disease (GERD)', 'Thyroid Cancer', 'Generalized Anxiety Disorder', \"Cushing's Syndrome\", 'Diabetes Type 1', 'Liver Disease', 'Esophageal Cancer', 'GERD', 'Laryngitis', 'Venous Insufficiency', 'Unexplained Weight Loss', 'Transient Ischemic Attack', 'Insomnia and Generalized Anxiety Disorder', 'Basal Cell Carcinoma', 'Cluster Headaches', 'Meningitis', 'Gastroenteritis', 'Severe Allergic Reaction', 'Hematuria', 'Uveitis', 'Oral Thrush', 'Lymphadenitis', \"Bell's Palsy\", 'Hepatitis C', 'Myocardial Infarction', 'Retinal Vein Occlusion', 'Frozen Shoulder', 'Aphthous Ulcers', 'Seborrheic Dermatitis', 'Paroxysmal Supraventricular Tachycardia', 'Constipation', 'Social Anxiety Disorder', 'Diplopia', 'Overactive Bladder', 'Exercise-Induced Asthma', 'Temporomandibular Joint Disorder', \"Athlete's Foot\", 'Peanut Allergy', \"Raynaud's Phenomenon\", 'Ulcerative Colitis', 'Cyanosis', 'Lupus', 'Melasma', 'Presbyopia', 'Nystagmus', 'Lymphoma', 'Anaphylaxis', 'Acid Reflux', 'Arrhythmia', 'Leukoplakia', 'Achilles Tendinitis', 'Esophageal Obstruction', 'Androgenetic Alopecia', 'Stroke', 'Eustachian Tube Dysfunction']\n"
          ]
        },
        {
          "output_type": "stream",
          "name": "stderr",
          "text": [
            "/usr/local/lib/python3.11/dist-packages/huggingface_hub/utils/_auth.py:94: UserWarning: \n",
            "The secret `HF_TOKEN` does not exist in your Colab secrets.\n",
            "To authenticate with the Hugging Face Hub, create a token in your settings tab (https://huggingface.co/settings/tokens), set it as secret in your Google Colab and restart your session.\n",
            "You will be able to reuse this secret in all of your notebooks.\n",
            "Please note that authentication is recommended but still optional to access public models or datasets.\n",
            "  warnings.warn(\n"
          ]
        },
        {
          "output_type": "display_data",
          "data": {
            "text/plain": [
              "config.json:   0%|          | 0.00/313 [00:00<?, ?B/s]"
            ],
            "application/vnd.jupyter.widget-view+json": {
              "version_major": 2,
              "version_minor": 0,
              "model_id": "d8afd79655aa4a8181d14cafba147896"
            }
          },
          "metadata": {}
        },
        {
          "output_type": "display_data",
          "data": {
            "text/plain": [
              "vocab.txt:   0%|          | 0.00/213k [00:00<?, ?B/s]"
            ],
            "application/vnd.jupyter.widget-view+json": {
              "version_major": 2,
              "version_minor": 0,
              "model_id": "5116ac34f5124dfdaf9e1790d84250df"
            }
          },
          "metadata": {}
        },
        {
          "output_type": "stream",
          "name": "stderr",
          "text": [
            "Asking to truncate to max_length but no maximum length is provided and the model has no predefined maximum length. Default to no truncation.\n"
          ]
        },
        {
          "output_type": "stream",
          "name": "stdout",
          "text": [
            "Train size: 1213, Test size: 304\n",
            "Train label distribution: Counter({68: 45, 52: 41, 67: 41, 81: 41, 13: 41, 82: 41, 62: 41, 104: 40, 0: 40, 23: 40, 102: 40, 99: 40, 96: 40, 103: 40, 94: 40, 8: 40, 55: 40, 16: 40, 17: 40, 28: 40, 100: 40, 41: 40, 33: 40, 101: 40, 84: 11, 54: 10, 20: 9, 53: 6, 85: 6, 78: 6, 22: 5, 57: 5, 19: 5, 60: 5, 25: 5, 66: 4, 91: 4, 7: 4, 51: 4, 38: 4, 90: 4, 12: 4, 9: 4, 79: 4, 95: 4, 92: 3, 3: 3, 76: 3, 35: 3, 48: 3, 83: 3, 72: 3, 73: 3, 4: 3, 1: 2, 75: 2, 32: 2, 31: 2, 40: 2, 39: 2, 58: 2, 2: 2, 42: 2, 71: 2, 24: 2, 74: 2, 46: 2, 86: 2, 97: 2, 11: 2, 5: 2, 69: 2, 87: 2, 15: 2, 21: 2, 37: 2, 63: 2, 45: 2, 34: 2, 64: 2, 49: 2, 10: 2, 77: 2, 88: 2, 43: 2, 47: 2, 36: 2, 50: 2, 29: 2, 65: 2, 80: 2, 89: 2, 56: 2, 6: 2, 27: 2, 18: 2, 14: 2, 70: 2, 30: 2, 26: 2, 61: 2, 59: 2, 98: 2, 93: 2, 44: 2})\n",
            "Test label distribution: Counter({13: 11, 62: 11, 68: 11, 81: 11, 82: 11, 52: 11, 96: 10, 55: 10, 33: 10, 103: 10, 17: 10, 16: 10, 23: 10, 100: 10, 67: 10, 41: 10, 101: 10, 0: 10, 102: 10, 28: 10, 8: 10, 104: 10, 94: 10, 99: 10, 84: 3, 54: 3, 25: 2, 20: 2, 78: 2, 57: 2, 19: 1, 3: 1, 39: 1, 12: 1, 66: 1, 92: 1, 83: 1, 53: 1, 95: 1, 85: 1, 2: 1, 1: 1, 36: 1, 91: 1, 35: 1, 10: 1, 27: 1, 7: 1, 9: 1, 60: 1, 73: 1, 51: 1, 22: 1, 21: 1, 11: 1, 42: 1, 79: 1, 48: 1, 14: 1, 65: 1, 34: 1, 56: 1, 38: 1, 88: 1, 45: 1, 89: 1, 43: 1, 44: 1, 64: 1, 72: 1, 4: 1, 90: 1, 47: 1, 76: 1})\n"
          ]
        },
        {
          "output_type": "display_data",
          "data": {
            "text/plain": [
              "pytorch_model.bin:   0%|          | 0.00/436M [00:00<?, ?B/s]"
            ],
            "application/vnd.jupyter.widget-view+json": {
              "version_major": 2,
              "version_minor": 0,
              "model_id": "e8c74dd591844e6d9f7d9c74160ffc4a"
            }
          },
          "metadata": {}
        },
        {
          "output_type": "display_data",
          "data": {
            "text/plain": [
              "model.safetensors:   0%|          | 0.00/436M [00:00<?, ?B/s]"
            ],
            "application/vnd.jupyter.widget-view+json": {
              "version_major": 2,
              "version_minor": 0,
              "model_id": "e07672d591e34d5c89cc01ba7b0fbf7c"
            }
          },
          "metadata": {}
        },
        {
          "output_type": "stream",
          "name": "stderr",
          "text": [
            "Some weights of BertForSequenceClassification were not initialized from the model checkpoint at dmis-lab/biobert-base-cased-v1.1 and are newly initialized: ['classifier.bias', 'classifier.weight']\n",
            "You should probably TRAIN this model on a down-stream task to be able to use it for predictions and inference.\n"
          ]
        },
        {
          "output_type": "stream",
          "name": "stdout",
          "text": [
            "\n",
            "Epoch 1\n"
          ]
        },
        {
          "output_type": "stream",
          "name": "stderr",
          "text": [
            "\n",
            "  0%|          | 0/76 [00:00<?, ?it/s]\u001b[A\n",
            "  1%|▏         | 1/76 [00:15<19:15, 15.40s/it]\u001b[A\n",
            "  3%|▎         | 2/76 [00:28<17:36, 14.28s/it]\u001b[A\n",
            "  4%|▍         | 3/76 [00:41<16:42, 13.73s/it]\u001b[A\n",
            "  5%|▌         | 4/76 [00:54<16:07, 13.44s/it]\u001b[A\n",
            "  7%|▋         | 5/76 [01:07<15:42, 13.28s/it]\u001b[A\n",
            "  8%|▊         | 6/76 [01:20<15:21, 13.16s/it]\u001b[A\n",
            "  9%|▉         | 7/76 [01:33<15:03, 13.10s/it]\u001b[A\n",
            " 11%|█         | 8/76 [01:46<14:47, 13.05s/it]\u001b[A\n",
            " 12%|█▏        | 9/76 [01:59<14:34, 13.05s/it]\u001b[A\n",
            " 13%|█▎        | 10/76 [02:12<14:19, 13.03s/it]\u001b[A\n",
            " 14%|█▍        | 11/76 [02:25<14:05, 13.01s/it]\u001b[A\n",
            " 16%|█▌        | 12/76 [02:38<13:51, 12.99s/it]\u001b[A\n",
            " 17%|█▋        | 13/76 [02:51<13:37, 12.98s/it]\u001b[A\n",
            " 18%|█▊        | 14/76 [03:04<13:24, 12.98s/it]\u001b[A\n",
            " 20%|█▉        | 15/76 [03:17<13:10, 12.96s/it]\u001b[A\n",
            " 21%|██        | 16/76 [03:30<12:57, 12.96s/it]\u001b[A\n",
            " 22%|██▏       | 17/76 [03:43<12:45, 12.97s/it]\u001b[A\n",
            " 24%|██▎       | 18/76 [03:56<12:32, 12.97s/it]\u001b[A\n",
            " 25%|██▌       | 19/76 [04:09<12:19, 12.97s/it]\u001b[A\n",
            " 26%|██▋       | 20/76 [04:22<12:06, 12.97s/it]\u001b[A\n",
            " 28%|██▊       | 21/76 [04:35<11:53, 12.97s/it]\u001b[A\n",
            " 29%|██▉       | 22/76 [04:48<11:40, 12.96s/it]\u001b[A\n",
            " 30%|███       | 23/76 [05:01<11:27, 12.97s/it]\u001b[A\n",
            " 32%|███▏      | 24/76 [05:14<11:13, 12.95s/it]\u001b[A\n",
            " 33%|███▎      | 25/76 [05:27<11:00, 12.95s/it]\u001b[A\n",
            " 34%|███▍      | 26/76 [05:40<10:47, 12.94s/it]\u001b[A\n",
            " 36%|███▌      | 27/76 [05:53<10:35, 12.97s/it]\u001b[A\n",
            " 37%|███▋      | 28/76 [06:06<10:22, 12.97s/it]\u001b[A\n",
            " 38%|███▊      | 29/76 [06:19<10:10, 12.99s/it]\u001b[A\n",
            " 39%|███▉      | 30/76 [06:32<09:56, 12.96s/it]\u001b[A\n",
            " 41%|████      | 31/76 [06:44<09:42, 12.94s/it]\u001b[A\n",
            " 42%|████▏     | 32/76 [06:57<09:29, 12.93s/it]\u001b[A\n",
            " 43%|████▎     | 33/76 [07:10<09:15, 12.92s/it]\u001b[A\n",
            " 45%|████▍     | 34/76 [07:23<09:02, 12.92s/it]\u001b[A\n",
            " 46%|████▌     | 35/76 [07:36<08:49, 12.91s/it]\u001b[A\n",
            " 47%|████▋     | 36/76 [07:49<08:36, 12.91s/it]\u001b[A\n",
            " 49%|████▊     | 37/76 [08:02<08:24, 12.93s/it]\u001b[A\n",
            " 50%|█████     | 38/76 [08:15<08:10, 12.91s/it]\u001b[A\n",
            " 51%|█████▏    | 39/76 [08:28<07:58, 12.92s/it]\u001b[A\n",
            " 53%|█████▎    | 40/76 [08:41<07:45, 12.94s/it]\u001b[A\n",
            " 54%|█████▍    | 41/76 [08:54<07:33, 12.95s/it]\u001b[A\n",
            " 55%|█████▌    | 42/76 [09:07<07:20, 12.94s/it]\u001b[A\n",
            " 57%|█████▋    | 43/76 [09:20<07:06, 12.94s/it]\u001b[A\n",
            " 58%|█████▊    | 44/76 [09:33<06:53, 12.93s/it]\u001b[A\n",
            " 59%|█████▉    | 45/76 [09:45<06:40, 12.93s/it]\u001b[A\n",
            " 61%|██████    | 46/76 [09:58<06:28, 12.94s/it]\u001b[A\n",
            " 62%|██████▏   | 47/76 [10:11<06:14, 12.93s/it]\u001b[A\n",
            " 63%|██████▎   | 48/76 [10:24<06:02, 12.94s/it]\u001b[A\n",
            " 64%|██████▍   | 49/76 [10:37<05:49, 12.96s/it]\u001b[A\n",
            " 66%|██████▌   | 50/76 [10:50<05:37, 12.96s/it]\u001b[A\n",
            " 67%|██████▋   | 51/76 [11:03<05:23, 12.96s/it]\u001b[A\n",
            " 68%|██████▊   | 52/76 [11:16<05:10, 12.94s/it]\u001b[A\n",
            " 70%|██████▉   | 53/76 [11:29<04:57, 12.95s/it]\u001b[A\n",
            " 71%|███████   | 54/76 [11:42<04:44, 12.95s/it]\u001b[A\n",
            " 72%|███████▏  | 55/76 [11:55<04:32, 12.96s/it]\u001b[A\n",
            " 74%|███████▎  | 56/76 [12:08<04:19, 12.96s/it]\u001b[A\n",
            " 75%|███████▌  | 57/76 [12:21<04:06, 12.96s/it]\u001b[A\n",
            " 76%|███████▋  | 58/76 [12:34<03:53, 12.96s/it]\u001b[A\n",
            " 78%|███████▊  | 59/76 [12:47<03:39, 12.94s/it]\u001b[A\n",
            " 79%|███████▉  | 60/76 [13:00<03:26, 12.93s/it]\u001b[A\n",
            " 80%|████████  | 61/76 [13:13<03:14, 12.93s/it]\u001b[A\n",
            " 82%|████████▏ | 62/76 [13:26<03:01, 12.93s/it]\u001b[A\n",
            " 83%|████████▎ | 63/76 [13:38<02:48, 12.94s/it]\u001b[A\n",
            " 84%|████████▍ | 64/76 [13:51<02:35, 12.95s/it]\u001b[A\n",
            " 86%|████████▌ | 65/76 [14:04<02:22, 12.95s/it]\u001b[A\n",
            " 87%|████████▋ | 66/76 [14:17<02:09, 12.94s/it]\u001b[A\n",
            " 88%|████████▊ | 67/76 [14:30<01:56, 12.94s/it]\u001b[A\n",
            " 89%|████████▉ | 68/76 [14:43<01:43, 12.96s/it]\u001b[A\n",
            " 91%|█████████ | 69/76 [14:56<01:30, 12.96s/it]\u001b[A\n",
            " 92%|█████████▏| 70/76 [15:09<01:17, 12.95s/it]\u001b[A\n",
            " 93%|█████████▎| 71/76 [15:22<01:04, 12.95s/it]\u001b[A\n",
            " 95%|█████████▍| 72/76 [15:35<00:51, 12.96s/it]\u001b[A\n",
            " 96%|█████████▌| 73/76 [15:48<00:38, 12.96s/it]\u001b[A\n",
            " 97%|█████████▋| 74/76 [16:01<00:25, 12.97s/it]\u001b[A\n",
            " 99%|█████████▊| 75/76 [16:14<00:12, 12.94s/it]\u001b[A\n",
            "100%|██████████| 76/76 [16:25<00:00, 12.96s/it]\n"
          ]
        },
        {
          "output_type": "stream",
          "name": "stdout",
          "text": [
            "Train Loss: 4.2577 | Validation Loss: 3.7477\n",
            "\n",
            "Epoch 2\n"
          ]
        },
        {
          "output_type": "stream",
          "name": "stderr",
          "text": [
            "100%|██████████| 76/76 [16:26<00:00, 12.98s/it]\n"
          ]
        },
        {
          "output_type": "stream",
          "name": "stdout",
          "text": [
            "Train Loss: 3.4084 | Validation Loss: 2.9061\n",
            "\n",
            "Epoch 3\n"
          ]
        },
        {
          "output_type": "stream",
          "name": "stderr",
          "text": [
            "100%|██████████| 76/76 [16:25<00:00, 12.97s/it]\n"
          ]
        },
        {
          "output_type": "stream",
          "name": "stdout",
          "text": [
            "Train Loss: 2.6021 | Validation Loss: 2.1732\n",
            "\n",
            "Epoch 4\n"
          ]
        },
        {
          "output_type": "stream",
          "name": "stderr",
          "text": [
            "100%|██████████| 76/76 [16:26<00:00, 12.98s/it]\n"
          ]
        },
        {
          "output_type": "stream",
          "name": "stdout",
          "text": [
            "Train Loss: 1.9281 | Validation Loss: 1.6573\n",
            "\n",
            "Epoch 5\n"
          ]
        },
        {
          "output_type": "stream",
          "name": "stderr",
          "text": [
            "100%|██████████| 76/76 [16:23<00:00, 12.94s/it]\n"
          ]
        },
        {
          "output_type": "stream",
          "name": "stdout",
          "text": [
            "Train Loss: 1.4444 | Validation Loss: 1.2931\n",
            "\n",
            "Epoch 6\n"
          ]
        },
        {
          "output_type": "stream",
          "name": "stderr",
          "text": [
            "100%|██████████| 76/76 [16:57<00:00, 13.38s/it]\n"
          ]
        },
        {
          "output_type": "stream",
          "name": "stdout",
          "text": [
            "Train Loss: 1.1255 | Validation Loss: 1.0968\n",
            "\n",
            "Epoch 7\n"
          ]
        },
        {
          "output_type": "stream",
          "name": "stderr",
          "text": [
            "100%|██████████| 76/76 [16:24<00:00, 12.95s/it]\n"
          ]
        },
        {
          "output_type": "stream",
          "name": "stdout",
          "text": [
            "Train Loss: 0.9273 | Validation Loss: 0.9632\n",
            "\n",
            "Epoch 8\n"
          ]
        },
        {
          "output_type": "stream",
          "name": "stderr",
          "text": [
            "100%|██████████| 76/76 [16:18<00:00, 12.88s/it]\n"
          ]
        },
        {
          "output_type": "stream",
          "name": "stdout",
          "text": [
            "Train Loss: 0.7978 | Validation Loss: 0.8651\n",
            "\n",
            "Epoch 9\n"
          ]
        },
        {
          "output_type": "stream",
          "name": "stderr",
          "text": [
            "100%|██████████| 76/76 [16:25<00:00, 12.97s/it]\n"
          ]
        },
        {
          "output_type": "stream",
          "name": "stdout",
          "text": [
            "Train Loss: 0.7037 | Validation Loss: 0.7934\n",
            "\n",
            "Epoch 10\n"
          ]
        },
        {
          "output_type": "stream",
          "name": "stderr",
          "text": [
            "100%|██████████| 76/76 [16:25<00:00, 12.97s/it]\n"
          ]
        },
        {
          "output_type": "stream",
          "name": "stdout",
          "text": [
            "Train Loss: 0.6246 | Validation Loss: 0.7403\n",
            "\n",
            "Epoch 11\n"
          ]
        },
        {
          "output_type": "stream",
          "name": "stderr",
          "text": [
            "100%|██████████| 76/76 [16:20<00:00, 12.90s/it]\n"
          ]
        },
        {
          "output_type": "stream",
          "name": "stdout",
          "text": [
            "Train Loss: 0.5550 | Validation Loss: 0.6892\n",
            "\n",
            "Epoch 12\n"
          ]
        },
        {
          "output_type": "stream",
          "name": "stderr",
          "text": [
            "100%|██████████| 76/76 [16:28<00:00, 13.01s/it]\n"
          ]
        },
        {
          "output_type": "stream",
          "name": "stdout",
          "text": [
            "Train Loss: 0.5012 | Validation Loss: 0.6692\n",
            "\n",
            "Epoch 13\n"
          ]
        },
        {
          "output_type": "stream",
          "name": "stderr",
          "text": [
            "100%|██████████| 76/76 [16:25<00:00, 12.97s/it]\n"
          ]
        },
        {
          "output_type": "stream",
          "name": "stdout",
          "text": [
            "Train Loss: 0.4594 | Validation Loss: 0.6224\n",
            "\n",
            "Epoch 14\n"
          ]
        },
        {
          "output_type": "stream",
          "name": "stderr",
          "text": [
            "100%|██████████| 76/76 [16:30<00:00, 13.04s/it]\n"
          ]
        },
        {
          "output_type": "stream",
          "name": "stdout",
          "text": [
            "Train Loss: 0.4224 | Validation Loss: 0.5900\n",
            "\n",
            "Epoch 15\n"
          ]
        },
        {
          "output_type": "stream",
          "name": "stderr",
          "text": [
            "100%|██████████| 76/76 [16:23<00:00, 12.95s/it]\n"
          ]
        },
        {
          "output_type": "stream",
          "name": "stdout",
          "text": [
            "Train Loss: 0.3799 | Validation Loss: 0.5743\n",
            "\n",
            "Epoch 16\n"
          ]
        },
        {
          "output_type": "stream",
          "name": "stderr",
          "text": [
            "100%|██████████| 76/76 [16:30<00:00, 13.03s/it]\n"
          ]
        },
        {
          "output_type": "stream",
          "name": "stdout",
          "text": [
            "Train Loss: 0.3494 | Validation Loss: 0.5548\n",
            "\n",
            "Epoch 17\n"
          ]
        },
        {
          "output_type": "stream",
          "name": "stderr",
          "text": [
            "100%|██████████| 76/76 [16:24<00:00, 12.96s/it]\n"
          ]
        },
        {
          "output_type": "stream",
          "name": "stdout",
          "text": [
            "Train Loss: 0.3163 | Validation Loss: 0.5365\n",
            "\n",
            "Epoch 18\n"
          ]
        },
        {
          "output_type": "stream",
          "name": "stderr",
          "text": [
            "100%|██████████| 76/76 [16:29<00:00, 13.02s/it]\n"
          ]
        },
        {
          "output_type": "stream",
          "name": "stdout",
          "text": [
            "Train Loss: 0.2866 | Validation Loss: 0.5261\n",
            "\n",
            "Epoch 19\n"
          ]
        },
        {
          "output_type": "stream",
          "name": "stderr",
          "text": [
            "100%|██████████| 76/76 [16:25<00:00, 12.97s/it]\n"
          ]
        },
        {
          "output_type": "stream",
          "name": "stdout",
          "text": [
            "Train Loss: 0.2609 | Validation Loss: 0.4989\n",
            "\n",
            "Epoch 20\n"
          ]
        },
        {
          "output_type": "stream",
          "name": "stderr",
          "text": [
            "100%|██████████| 76/76 [16:30<00:00, 13.03s/it]\n"
          ]
        },
        {
          "output_type": "stream",
          "name": "stdout",
          "text": [
            "Train Loss: 0.2422 | Validation Loss: 0.5111\n",
            "\n",
            "Epoch 21\n"
          ]
        },
        {
          "output_type": "stream",
          "name": "stderr",
          "text": [
            "100%|██████████| 76/76 [16:23<00:00, 12.94s/it]\n"
          ]
        },
        {
          "output_type": "stream",
          "name": "stdout",
          "text": [
            "Train Loss: 0.2223 | Validation Loss: 0.4967\n",
            "\n",
            "Epoch 22\n"
          ]
        },
        {
          "output_type": "stream",
          "name": "stderr",
          "text": [
            "100%|██████████| 76/76 [16:17<00:00, 12.86s/it]\n"
          ]
        },
        {
          "output_type": "stream",
          "name": "stdout",
          "text": [
            "Train Loss: 0.2006 | Validation Loss: 0.4893\n",
            "\n",
            "Epoch 23\n"
          ]
        },
        {
          "output_type": "stream",
          "name": "stderr",
          "text": [
            "100%|██████████| 76/76 [16:30<00:00, 13.03s/it]\n"
          ]
        },
        {
          "output_type": "stream",
          "name": "stdout",
          "text": [
            "Train Loss: 0.1830 | Validation Loss: 0.4879\n",
            "\n",
            "Epoch 24\n"
          ]
        },
        {
          "output_type": "stream",
          "name": "stderr",
          "text": [
            "100%|██████████| 76/76 [16:21<00:00, 12.92s/it]\n"
          ]
        },
        {
          "output_type": "stream",
          "name": "stdout",
          "text": [
            "Train Loss: 0.1688 | Validation Loss: 0.4773\n",
            "\n",
            "Epoch 25\n"
          ]
        },
        {
          "output_type": "stream",
          "name": "stderr",
          "text": [
            "100%|██████████| 76/76 [16:31<00:00, 13.05s/it]\n"
          ]
        },
        {
          "output_type": "stream",
          "name": "stdout",
          "text": [
            "Train Loss: 0.1546 | Validation Loss: 0.4727\n",
            "\n",
            "Epoch 26\n"
          ]
        },
        {
          "output_type": "stream",
          "name": "stderr",
          "text": [
            "100%|██████████| 76/76 [16:16<00:00, 12.85s/it]\n"
          ]
        },
        {
          "output_type": "stream",
          "name": "stdout",
          "text": [
            "Train Loss: 0.1427 | Validation Loss: 0.4620\n",
            "\n",
            "Epoch 27\n"
          ]
        },
        {
          "output_type": "stream",
          "name": "stderr",
          "text": [
            "100%|██████████| 76/76 [16:32<00:00, 13.06s/it]\n"
          ]
        },
        {
          "output_type": "stream",
          "name": "stdout",
          "text": [
            "Train Loss: 0.1301 | Validation Loss: 0.4612\n",
            "\n",
            "Epoch 28\n"
          ]
        },
        {
          "output_type": "stream",
          "name": "stderr",
          "text": [
            "100%|██████████| 76/76 [16:33<00:00, 13.07s/it]\n"
          ]
        },
        {
          "output_type": "stream",
          "name": "stdout",
          "text": [
            "Train Loss: 0.1169 | Validation Loss: 0.4535\n",
            "\n",
            "Epoch 29\n"
          ]
        },
        {
          "output_type": "stream",
          "name": "stderr",
          "text": [
            "100%|██████████| 76/76 [16:21<00:00, 12.91s/it]\n"
          ]
        },
        {
          "output_type": "stream",
          "name": "stdout",
          "text": [
            "Train Loss: 0.1069 | Validation Loss: 0.4609\n",
            "\n",
            "Epoch 30\n"
          ]
        },
        {
          "output_type": "stream",
          "name": "stderr",
          "text": [
            "100%|██████████| 76/76 [16:21<00:00, 12.91s/it]\n"
          ]
        },
        {
          "output_type": "stream",
          "name": "stdout",
          "text": [
            "Train Loss: 0.0967 | Validation Loss: 0.4491\n",
            "\n",
            "Epoch 31\n"
          ]
        },
        {
          "output_type": "stream",
          "name": "stderr",
          "text": [
            "100%|██████████| 76/76 [16:23<00:00, 12.94s/it]\n"
          ]
        },
        {
          "output_type": "stream",
          "name": "stdout",
          "text": [
            "Train Loss: 0.0894 | Validation Loss: 0.4561\n",
            "\n",
            "Epoch 32\n"
          ]
        },
        {
          "output_type": "stream",
          "name": "stderr",
          "text": [
            "100%|██████████| 76/76 [16:17<00:00, 12.87s/it]\n"
          ]
        },
        {
          "output_type": "stream",
          "name": "stdout",
          "text": [
            "Train Loss: 0.0863 | Validation Loss: 0.4511\n",
            "\n",
            "Epoch 33\n"
          ]
        },
        {
          "output_type": "stream",
          "name": "stderr",
          "text": [
            "100%|██████████| 76/76 [16:17<00:00, 12.86s/it]\n"
          ]
        },
        {
          "output_type": "stream",
          "name": "stdout",
          "text": [
            "Train Loss: 0.0796 | Validation Loss: 0.4421\n",
            "\n",
            "Epoch 34\n"
          ]
        },
        {
          "output_type": "stream",
          "name": "stderr",
          "text": [
            "100%|██████████| 76/76 [16:16<00:00, 12.85s/it]\n"
          ]
        },
        {
          "output_type": "stream",
          "name": "stdout",
          "text": [
            "Train Loss: 0.0715 | Validation Loss: 0.4393\n",
            "\n",
            "Epoch 35\n"
          ]
        },
        {
          "output_type": "stream",
          "name": "stderr",
          "text": [
            "100%|██████████| 76/76 [16:19<00:00, 12.89s/it]\n"
          ]
        },
        {
          "output_type": "stream",
          "name": "stdout",
          "text": [
            "Train Loss: 0.0652 | Validation Loss: 0.4452\n",
            "\n",
            "Epoch 36\n"
          ]
        },
        {
          "output_type": "stream",
          "name": "stderr",
          "text": [
            "100%|██████████| 76/76 [16:18<00:00, 12.87s/it]\n"
          ]
        },
        {
          "output_type": "stream",
          "name": "stdout",
          "text": [
            "Train Loss: 0.0584 | Validation Loss: 0.4517\n",
            "\n",
            "Epoch 37\n"
          ]
        },
        {
          "output_type": "stream",
          "name": "stderr",
          "text": [
            "100%|██████████| 76/76 [16:18<00:00, 12.88s/it]\n"
          ]
        },
        {
          "output_type": "stream",
          "name": "stdout",
          "text": [
            "Train Loss: 0.0553 | Validation Loss: 0.4550\n",
            "\n",
            "Early stopping triggered at epoch 37\n",
            "\n",
            "✅ Classification Report:\n",
            "\n",
            "                                          precision    recall  f1-score   support\n",
            "\n",
            "                                    Acne       1.00      1.00      1.00        10\n",
            "        Age-related Macular Degeneration       0.00      0.00      0.00         1\n",
            "                       Allergic Rhinitis       1.00      1.00      1.00         1\n",
            "                         Alopecia Areata       1.00      1.00      1.00         1\n",
            "                     Alzheimer's Disease       0.00      0.00      0.00         1\n",
            "                            Appendicitis       0.50      1.00      0.67         1\n",
            "                               Arthritis       1.00      1.00      1.00        10\n",
            "                                  Asthma       0.00      0.00      0.00         1\n",
            "                     Atrial Fibrillation       0.00      0.00      0.00         1\n",
            "Attention Deficit Hyperactivity Disorder       0.50      1.00      0.67         1\n",
            "                        Bipolar Disorder       1.00      1.00      1.00         1\n",
            "                        Bronchial Asthma       1.00      1.00      1.00        11\n",
            "                                COVID-19       1.00      1.00      1.00         1\n",
            "                    Cervical spondylosis       1.00      1.00      1.00        10\n",
            "                             Chicken pox       0.89      0.80      0.84        10\n",
            "                      Chronic Bronchitis       0.33      1.00      0.50         1\n",
            "                Chronic Fatigue Syndrome       0.00      0.00      0.00         2\n",
            "   Chronic Obstructive Pulmonary Disease       0.00      0.00      0.00         1\n",
            "                       Colorectal Cancer       1.00      1.00      1.00         1\n",
            "                             Common Cold       1.00      1.00      1.00        10\n",
            "                      Contact Dermatitis       1.00      1.00      1.00         2\n",
            "                    Deep Vein Thrombosis       0.00      0.00      0.00         1\n",
            "                                  Dengue       0.82      0.90      0.86        10\n",
            "                   Dimorphic Hemorrhoids       1.00      1.00      1.00        10\n",
            "                    Early Onset Dementia       0.00      0.00      0.00         1\n",
            "                                  Eczema       0.00      0.00      0.00         1\n",
            "                   Electrolyte Imbalance       1.00      1.00      1.00         1\n",
            "                    Esophageal Stricture       0.00      0.00      0.00         1\n",
            "                             Esophagitis       0.00      0.00      0.00         1\n",
            "                        Fungal infection       1.00      1.00      1.00        10\n",
            "                              Gallstones       0.00      0.00      0.00         1\n",
            "                               Gastritis       0.00      0.00      0.00         1\n",
            "         Gastroesophageal Reflux Disease       0.00      0.00      0.00         1\n",
            "                                    Gout       1.00      1.00      1.00         1\n",
            "                              Hemophilia       0.00      0.00      0.00         1\n",
            "                               Hepatitis       1.00      1.00      1.00         1\n",
            "                           Hyperhidrosis       1.00      1.00      1.00         1\n",
            "                            Hypertension       1.00      1.00      1.00        11\n",
            "                         Hyperthyroidism       0.50      1.00      0.67         1\n",
            "                          Hypothyroidism       1.00      0.67      0.80         3\n",
            "                                Impetigo       1.00      1.00      1.00        10\n",
            "                               Influenza       1.00      1.00      1.00         1\n",
            "                                Insomnia       0.00      0.00      0.00         2\n",
            "                Irritable Bowel Syndrome       1.00      1.00      1.00         1\n",
            "                                Jaundice       1.00      1.00      1.00        11\n",
            "                     Knee Osteoarthritis       1.00      1.00      1.00         1\n",
            "                                Leukemia       0.00      0.00      0.00         1\n",
            "               Major Depressive Disorder       1.00      1.00      1.00         1\n",
            "                                 Malaria       1.00      1.00      1.00        10\n",
            "                                Migraine       1.00      0.73      0.84        11\n",
            "                                  Myopia       0.50      1.00      0.67         1\n",
            "                 Orthostatic Hypotension       1.00      1.00      1.00         1\n",
            "                     Parkinson's Disease       1.00      1.00      1.00         1\n",
            "                   Peripheral Neuropathy       1.00      1.00      1.00         2\n",
            "                             Pharyngitis       1.00      1.00      1.00         1\n",
            "                               Pneumonia       1.00      0.91      0.95        11\n",
            "                               Psoriasis       0.90      0.82      0.86        11\n",
            "                      Retinal Detachment       1.00      1.00      1.00         1\n",
            "                    Rheumatoid Arthritis       1.00      1.00      1.00         3\n",
            "                                Sciatica       1.00      1.00      1.00         1\n",
            "                 Subarachnoid Hemorrhage       1.00      1.00      1.00         1\n",
            "                          Thyroid Nodule       1.00      1.00      1.00         1\n",
            "                                Tinnitus       1.00      1.00      1.00         1\n",
            "                            Tuberculosis       1.00      1.00      1.00         1\n",
            "                         Type 1 Diabetes       1.00      1.00      1.00         1\n",
            "                                 Typhoid       1.00      0.90      0.95        10\n",
            "                 Urinary Tract Infection       1.00      1.00      1.00         1\n",
            "                          Varicose Veins       0.91      1.00      0.95        10\n",
            "                                 allergy       1.00      1.00      1.00        10\n",
            "                                diabetes       0.83      1.00      0.91        10\n",
            "                           drug reaction       1.00      0.90      0.95        10\n",
            "         gastroesophageal reflux disease       0.91      1.00      0.95        10\n",
            "                    peptic ulcer disease       0.91      1.00      0.95        10\n",
            "                 urinary tract infection       1.00      1.00      1.00        10\n",
            "\n",
            "                               micro avg       0.93      0.90      0.91       304\n",
            "                               macro avg       0.72      0.75      0.73       304\n",
            "                            weighted avg       0.90      0.90      0.90       304\n",
            "\n",
            "✅ Accuracy: 0.8980263157894737\n",
            "✅ Precision: 0.9010200691121744\n",
            "✅ Recall: 0.8980263157894737\n",
            "✅ F1 Score: 0.8958446505018528\n"
          ]
        },
        {
          "output_type": "stream",
          "name": "stderr",
          "text": [
            "/usr/local/lib/python3.11/dist-packages/sklearn/metrics/_classification.py:1565: UndefinedMetricWarning: Precision is ill-defined and being set to 0.0 in labels with no predicted samples. Use `zero_division` parameter to control this behavior.\n",
            "  _warn_prf(average, modifier, f\"{metric.capitalize()} is\", len(result))\n",
            "/usr/local/lib/python3.11/dist-packages/sklearn/metrics/_classification.py:1565: UndefinedMetricWarning: Precision is ill-defined and being set to 0.0 in labels with no predicted samples. Use `zero_division` parameter to control this behavior.\n",
            "  _warn_prf(average, modifier, f\"{metric.capitalize()} is\", len(result))\n",
            "/usr/local/lib/python3.11/dist-packages/sklearn/metrics/_classification.py:1565: UndefinedMetricWarning: Precision is ill-defined and being set to 0.0 in labels with no predicted samples. Use `zero_division` parameter to control this behavior.\n",
            "  _warn_prf(average, modifier, f\"{metric.capitalize()} is\", len(result))\n",
            "/usr/local/lib/python3.11/dist-packages/sklearn/metrics/_classification.py:1565: UndefinedMetricWarning: Precision is ill-defined and being set to 0.0 in labels with no predicted samples. Use `zero_division` parameter to control this behavior.\n",
            "  _warn_prf(average, modifier, f\"{metric.capitalize()} is\", len(result))\n",
            "/usr/local/lib/python3.11/dist-packages/sklearn/metrics/_classification.py:1565: UndefinedMetricWarning: Recall is ill-defined and being set to 0.0 in labels with no true samples. Use `zero_division` parameter to control this behavior.\n",
            "  _warn_prf(average, modifier, f\"{metric.capitalize()} is\", len(result))\n"
          ]
        }
      ],
      "source": [
        "# 📦 Imports\n",
        "import pandas as pd\n",
        "import torch\n",
        "import numpy as np\n",
        "import random\n",
        "from sklearn.preprocessing import LabelEncoder\n",
        "from sklearn.model_selection import train_test_split\n",
        "from sklearn.metrics import accuracy_score, precision_score, recall_score, f1_score, classification_report\n",
        "from torch.utils.data import Dataset, DataLoader\n",
        "from transformers import AutoTokenizer, AutoModelForSequenceClassification\n",
        "from tqdm import tqdm\n",
        "from collections import Counter\n",
        "\n",
        "# 🔧 Set seeds for reproducibility\n",
        "def set_seed(seed):\n",
        "    random.seed(seed)\n",
        "    np.random.seed(seed)\n",
        "    torch.manual_seed(seed)\n",
        "    if torch.cuda.is_available():\n",
        "        torch.cuda.manual_seed_all(seed)\n",
        "\n",
        "RANDOM_SEED = 42\n",
        "set_seed(RANDOM_SEED)\n",
        "\n",
        "# 📁 Load data\n",
        "df1 = pd.read_csv(\"/content/Train_data.csv\")[['text', 'label']]\n",
        "df2 = pd.read_csv(\"/content/medical_data.csv\").rename(columns={\"Patient_Problem\": \"text\", \"Disease\": \"label\"})[['text', 'label']]\n",
        "df_all = pd.concat([df1, df2]).reset_index(drop=True)\n",
        "\n",
        "# ❗ Entferne Klassen mit weniger als 2 Beispielen (für stratified split notwendig)\n",
        "counts = df_all['label'].value_counts()\n",
        "labels_to_remove = counts[counts < 2].index.tolist()\n",
        "df_all_filtered = df_all[~df_all['label'].isin(labels_to_remove)].reset_index(drop=True)\n",
        "\n",
        "print(f\"Original dataset size: {len(df_all)}\")\n",
        "print(f\"Filtered dataset size (removed classes with < 2 samples): {len(df_all_filtered)}\")\n",
        "print(f\"Removed labels: {labels_to_remove}\")\n",
        "\n",
        "# 🔠 Label encoding auf gefiltertem Datensatz\n",
        "le = LabelEncoder()\n",
        "df_all_filtered['label'] = le.fit_transform(df_all_filtered['label'])\n",
        "num_labels = len(le.classes_)\n",
        "\n",
        "# 🔤 Model und Tokenizer (ClinicalBERT)\n",
        "model_name = \"dmis-lab/biobert-base-cased-v1.1\"\n",
        "tokenizer = AutoTokenizer.from_pretrained(model_name)\n",
        "\n",
        "# 📦 Dataset-Klasse\n",
        "class MedicalDataset(Dataset):\n",
        "    def __init__(self, texts, labels):\n",
        "        self.encodings = tokenizer(texts, truncation=True, padding=True, return_tensors=\"pt\")\n",
        "        self.labels = torch.tensor(labels)\n",
        "\n",
        "    def __getitem__(self, idx):\n",
        "        item = {key: val[idx] for key, val in self.encodings.items()}\n",
        "        item[\"labels\"] = self.labels[idx]\n",
        "        return item\n",
        "\n",
        "    def __len__(self):\n",
        "        return len(self.labels)\n",
        "\n",
        "# 🧪 Stratified Train/Test Split mit fixiertem Seed\n",
        "X_train, X_test, y_train, y_test = train_test_split(\n",
        "    df_all_filtered[\"text\"].tolist(),\n",
        "    df_all_filtered[\"label\"].tolist(),\n",
        "    test_size=0.2,\n",
        "    random_state=RANDOM_SEED,\n",
        "    stratify=df_all_filtered[\"label\"].tolist()\n",
        ")\n",
        "\n",
        "print(f\"Train size: {len(X_train)}, Test size: {len(X_test)}\")\n",
        "print(\"Train label distribution:\", Counter(y_train))\n",
        "print(\"Test label distribution:\", Counter(y_test))\n",
        "\n",
        "# 🏗️ DataLoader\n",
        "train_loader = DataLoader(MedicalDataset(X_train, y_train), batch_size=16, shuffle=True)\n",
        "test_loader = DataLoader(MedicalDataset(X_test, y_test), batch_size=16)\n",
        "\n",
        "# 🧠 Modell-Setup\n",
        "device = torch.device(\"cuda\" if torch.cuda.is_available() else \"cpu\")\n",
        "model = AutoModelForSequenceClassification.from_pretrained(model_name, num_labels=num_labels).to(device)\n",
        "optimizer = torch.optim.AdamW(model.parameters(), lr=2e-5)\n",
        "\n",
        "# 🛑 Early Stopping Parameter\n",
        "patience = 3\n",
        "best_val_loss = float(\"inf\")\n",
        "patience_counter = 0\n",
        "\n",
        "train_losses = []\n",
        "val_losses = []\n",
        "\n",
        "# 🔁 Trainingsschleife mit Early Stopping\n",
        "epoch = 0\n",
        "while True:\n",
        "    epoch += 1\n",
        "    print(f\"\\nEpoch {epoch}\")\n",
        "    model.train()\n",
        "    total_train_loss = 0\n",
        "\n",
        "    for batch in tqdm(train_loader):\n",
        "        batch = {k: v.to(device) for k, v in batch.items()}\n",
        "        outputs = model(**batch)\n",
        "        loss = outputs.loss\n",
        "        loss.backward()\n",
        "        optimizer.step()\n",
        "        optimizer.zero_grad()\n",
        "        total_train_loss += loss.item()\n",
        "\n",
        "    avg_train_loss = total_train_loss / len(train_loader)\n",
        "    train_losses.append(avg_train_loss)\n",
        "\n",
        "    model.eval()\n",
        "    total_val_loss = 0\n",
        "    with torch.no_grad():\n",
        "        for batch in test_loader:\n",
        "            batch = {k: v.to(device) for k, v in batch.items()}\n",
        "            outputs = model(**batch)\n",
        "            total_val_loss += outputs.loss.item()\n",
        "\n",
        "    avg_val_loss = total_val_loss / len(test_loader)\n",
        "    val_losses.append(avg_val_loss)\n",
        "\n",
        "    print(f\"Train Loss: {avg_train_loss:.4f} | Validation Loss: {avg_val_loss:.4f}\")\n",
        "\n",
        "    if avg_val_loss < best_val_loss:\n",
        "        best_val_loss = avg_val_loss\n",
        "        best_model_state = model.state_dict()\n",
        "        patience_counter = 0\n",
        "    else:\n",
        "        patience_counter += 1\n",
        "\n",
        "    if patience_counter >= patience:\n",
        "        print(f\"\\nEarly stopping triggered at epoch {epoch}\")\n",
        "        break\n",
        "\n",
        "# 📥 Bestes Modell laden\n",
        "model.load_state_dict(best_model_state)\n",
        "model.eval()\n",
        "\n",
        "# 🧾 Evaluation\n",
        "preds = []\n",
        "true = []\n",
        "\n",
        "with torch.no_grad():\n",
        "    for batch in test_loader:\n",
        "        batch = {k: v.to(device) for k, v in batch.items()}\n",
        "        logits = model(**batch).logits\n",
        "        preds.extend(torch.argmax(logits, dim=1).cpu().numpy())\n",
        "        true.extend(batch[\"labels\"].cpu().numpy())\n",
        "\n",
        "used_labels = np.unique(true)\n",
        "used_names = le.inverse_transform(used_labels)\n",
        "\n",
        "print(\"\\n✅ Classification Report:\\n\")\n",
        "print(classification_report(true, preds, labels=used_labels, target_names=used_names))\n",
        "print(\"✅ Accuracy:\", accuracy_score(true, preds))\n",
        "print(\"✅ Precision:\", precision_score(true, preds, average=\"weighted\"))\n",
        "print(\"✅ Recall:\", recall_score(true, preds, average=\"weighted\"))\n",
        "print(\"✅ F1 Score:\", f1_score(true, preds, average=\"weighted\"))"
      ]
    }
  ]
}